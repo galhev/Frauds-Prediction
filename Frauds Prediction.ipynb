{
 "cells": [
  {
   "cell_type": "markdown",
   "metadata": {},
   "source": [
    "# Frauds Prediction"
   ]
  },
  {
   "cell_type": "code",
   "execution_count": null,
   "metadata": {
    "collapsed": true
   },
   "outputs": [],
   "source": [
    "By: Gal Hever"
   ]
  },
  {
   "cell_type": "markdown",
   "metadata": {},
   "source": [
    "### Exploratory Data Analysis (EDA)"
   ]
  },
  {
   "cell_type": "markdown",
   "metadata": {},
   "source": [
    "In order to understand the data, it is common to begin with descriptive statistics analysis before the pre-processing section and model building"
   ]
  },
  {
   "cell_type": "code",
   "execution_count": 523,
   "metadata": {
    "collapsed": true
   },
   "outputs": [],
   "source": [
    "import pandas as pd\n",
    "import numpy as np\n",
    "import matplotlib.pyplot as plt\n",
    "import seaborn as sns\n",
    "import sklearn\n",
    "%matplotlib inline\n",
    "plt.rcParams.update({'font.size': 20, 'figure.figsize':(8, 8)})"
   ]
  },
  {
   "cell_type": "code",
   "execution_count": 524,
   "metadata": {
    "collapsed": false
   },
   "outputs": [
    {
     "name": "stderr",
     "output_type": "stream",
     "text": [
      "C:\\Users\\user\\Anaconda3\\envs\\cs231n\\lib\\site-packages\\IPython\\core\\interactiveshell.py:2717: DtypeWarning: Columns (10) have mixed types. Specify dtype option on import or set low_memory=False.\n",
      "  interactivity=interactivity, compiler=compiler, result=result)\n"
     ]
    }
   ],
   "source": [
    "df = pd.read_csv('ds_interview_dataset.csv')"
   ]
  },
  {
   "cell_type": "code",
   "execution_count": 493,
   "metadata": {
    "collapsed": false
   },
   "outputs": [
    {
     "data": {
      "text/html": [
       "<div>\n",
       "<style scoped>\n",
       "    .dataframe tbody tr th:only-of-type {\n",
       "        vertical-align: middle;\n",
       "    }\n",
       "\n",
       "    .dataframe tbody tr th {\n",
       "        vertical-align: top;\n",
       "    }\n",
       "\n",
       "    .dataframe thead th {\n",
       "        text-align: right;\n",
       "    }\n",
       "</style>\n",
       "<table border=\"1\" class=\"dataframe\">\n",
       "  <thead>\n",
       "    <tr style=\"text-align: right;\">\n",
       "      <th></th>\n",
       "      <th>order_id</th>\n",
       "      <th>status</th>\n",
       "      <th>email_anoni</th>\n",
       "      <th>billing_country_code</th>\n",
       "      <th>shipping_country_code</th>\n",
       "      <th>shipping_method</th>\n",
       "      <th>created_at</th>\n",
       "      <th>total_spent</th>\n",
       "      <th>currency_code</th>\n",
       "      <th>gateway</th>\n",
       "      <th>...</th>\n",
       "      <th>V2_distance</th>\n",
       "      <th>V3_distance</th>\n",
       "      <th>V4_our_age</th>\n",
       "      <th>V5_merchant_age</th>\n",
       "      <th>V6_avs_result</th>\n",
       "      <th>V7_bill_ship_name_match</th>\n",
       "      <th>V8_ip</th>\n",
       "      <th>V9_cookie</th>\n",
       "      <th>V10_cookie</th>\n",
       "      <th>V11_cookie</th>\n",
       "    </tr>\n",
       "  </thead>\n",
       "  <tbody>\n",
       "    <tr>\n",
       "      <th>0</th>\n",
       "      <td>176079577</td>\n",
       "      <td>approved</td>\n",
       "      <td>shRbsUOPGM@qq.com</td>\n",
       "      <td>CA</td>\n",
       "      <td>CA</td>\n",
       "      <td>value_1620</td>\n",
       "      <td>2017-04-06</td>\n",
       "      <td>758.471274</td>\n",
       "      <td>CAD</td>\n",
       "      <td>value_100</td>\n",
       "      <td>...</td>\n",
       "      <td>NaN</td>\n",
       "      <td>NaN</td>\n",
       "      <td>618.0</td>\n",
       "      <td>1.0</td>\n",
       "      <td>Unsupported</td>\n",
       "      <td>FL</td>\n",
       "      <td>0.0</td>\n",
       "      <td>0.0</td>\n",
       "      <td>3.767404</td>\n",
       "      <td>NaN</td>\n",
       "    </tr>\n",
       "    <tr>\n",
       "      <th>1</th>\n",
       "      <td>201560820</td>\n",
       "      <td>approved</td>\n",
       "      <td>hEjasTK8Vpq6sR@gmail.com</td>\n",
       "      <td>IT</td>\n",
       "      <td>IT</td>\n",
       "      <td>value_1639</td>\n",
       "      <td>2017-06-16</td>\n",
       "      <td>48.319175</td>\n",
       "      <td>EUR</td>\n",
       "      <td>value_169</td>\n",
       "      <td>...</td>\n",
       "      <td>2.0</td>\n",
       "      <td>2.0</td>\n",
       "      <td>0.0</td>\n",
       "      <td>0.0</td>\n",
       "      <td>Missing</td>\n",
       "      <td>FL</td>\n",
       "      <td>0.0</td>\n",
       "      <td>0.0</td>\n",
       "      <td>0.464798</td>\n",
       "      <td>NaN</td>\n",
       "    </tr>\n",
       "    <tr>\n",
       "      <th>2</th>\n",
       "      <td>164072492</td>\n",
       "      <td>approved</td>\n",
       "      <td>KOWpxkDYDF@gmail.com</td>\n",
       "      <td>BE</td>\n",
       "      <td>BE</td>\n",
       "      <td>value_244</td>\n",
       "      <td>2017-03-01</td>\n",
       "      <td>1123.094534</td>\n",
       "      <td>EUR</td>\n",
       "      <td>value_151</td>\n",
       "      <td>...</td>\n",
       "      <td>107.0</td>\n",
       "      <td>92.0</td>\n",
       "      <td>1149.0</td>\n",
       "      <td>1437.0</td>\n",
       "      <td>Missing</td>\n",
       "      <td>FL</td>\n",
       "      <td>0.0</td>\n",
       "      <td>1.0</td>\n",
       "      <td>1.258080</td>\n",
       "      <td>0.038704</td>\n",
       "    </tr>\n",
       "    <tr>\n",
       "      <th>3</th>\n",
       "      <td>174595495</td>\n",
       "      <td>approved</td>\n",
       "      <td>hKOMNS3@me.com</td>\n",
       "      <td>CH</td>\n",
       "      <td>CH</td>\n",
       "      <td>value_1879</td>\n",
       "      <td>2017-04-02</td>\n",
       "      <td>12.530000</td>\n",
       "      <td>USD</td>\n",
       "      <td>value_247</td>\n",
       "      <td>...</td>\n",
       "      <td>1.0</td>\n",
       "      <td>1.0</td>\n",
       "      <td>169.0</td>\n",
       "      <td>72.0</td>\n",
       "      <td>Missing</td>\n",
       "      <td>FL</td>\n",
       "      <td>0.0</td>\n",
       "      <td>10.0</td>\n",
       "      <td>0.481779</td>\n",
       "      <td>0.008171</td>\n",
       "    </tr>\n",
       "    <tr>\n",
       "      <th>4</th>\n",
       "      <td>213517818</td>\n",
       "      <td>approved</td>\n",
       "      <td>PrP6SYm5Q5nMs1tj@hotmail.com</td>\n",
       "      <td>HK</td>\n",
       "      <td>HK</td>\n",
       "      <td>value_291</td>\n",
       "      <td>2017-07-11</td>\n",
       "      <td>480.000000</td>\n",
       "      <td>USD</td>\n",
       "      <td>value_148</td>\n",
       "      <td>...</td>\n",
       "      <td>1.0</td>\n",
       "      <td>1.0</td>\n",
       "      <td>806.0</td>\n",
       "      <td>519.0</td>\n",
       "      <td>Unsupported</td>\n",
       "      <td>FL</td>\n",
       "      <td>0.0</td>\n",
       "      <td>211.0</td>\n",
       "      <td>1.475766</td>\n",
       "      <td>96.343843</td>\n",
       "    </tr>\n",
       "  </tbody>\n",
       "</table>\n",
       "<p>5 rows × 21 columns</p>\n",
       "</div>"
      ],
      "text/plain": [
       "    order_id    status                   email_anoni billing_country_code  \\\n",
       "0  176079577  approved             shRbsUOPGM@qq.com                   CA   \n",
       "1  201560820  approved      hEjasTK8Vpq6sR@gmail.com                   IT   \n",
       "2  164072492  approved          KOWpxkDYDF@gmail.com                   BE   \n",
       "3  174595495  approved                hKOMNS3@me.com                   CH   \n",
       "4  213517818  approved  PrP6SYm5Q5nMs1tj@hotmail.com                   HK   \n",
       "\n",
       "  shipping_country_code shipping_method  created_at  total_spent  \\\n",
       "0                    CA      value_1620  2017-04-06   758.471274   \n",
       "1                    IT      value_1639  2017-06-16    48.319175   \n",
       "2                    BE       value_244  2017-03-01  1123.094534   \n",
       "3                    CH      value_1879  2017-04-02    12.530000   \n",
       "4                    HK       value_291  2017-07-11   480.000000   \n",
       "\n",
       "  currency_code    gateway  ... V2_distance  V3_distance  V4_our_age  \\\n",
       "0           CAD  value_100  ...         NaN          NaN       618.0   \n",
       "1           EUR  value_169  ...         2.0          2.0         0.0   \n",
       "2           EUR  value_151  ...       107.0         92.0      1149.0   \n",
       "3           USD  value_247  ...         1.0          1.0       169.0   \n",
       "4           USD  value_148  ...         1.0          1.0       806.0   \n",
       "\n",
       "   V5_merchant_age  V6_avs_result V7_bill_ship_name_match V8_ip  V9_cookie  \\\n",
       "0              1.0    Unsupported                      FL   0.0        0.0   \n",
       "1              0.0        Missing                      FL   0.0        0.0   \n",
       "2           1437.0        Missing                      FL   0.0        1.0   \n",
       "3             72.0        Missing                      FL   0.0       10.0   \n",
       "4            519.0    Unsupported                      FL   0.0      211.0   \n",
       "\n",
       "   V10_cookie  V11_cookie  \n",
       "0    3.767404         NaN  \n",
       "1    0.464798         NaN  \n",
       "2    1.258080    0.038704  \n",
       "3    0.481779    0.008171  \n",
       "4    1.475766   96.343843  \n",
       "\n",
       "[5 rows x 21 columns]"
      ]
     },
     "execution_count": 493,
     "metadata": {},
     "output_type": "execute_result"
    }
   ],
   "source": [
    "df.head()"
   ]
  },
  {
   "cell_type": "markdown",
   "metadata": {},
   "source": [
    "General information"
   ]
  },
  {
   "cell_type": "code",
   "execution_count": 494,
   "metadata": {
    "collapsed": false
   },
   "outputs": [
    {
     "data": {
      "text/plain": [
       "(190000, 21)"
      ]
     },
     "execution_count": 494,
     "metadata": {},
     "output_type": "execute_result"
    }
   ],
   "source": [
    "df.shape"
   ]
  },
  {
   "cell_type": "code",
   "execution_count": 495,
   "metadata": {
    "collapsed": false
   },
   "outputs": [
    {
     "name": "stdout",
     "output_type": "stream",
     "text": [
      "<class 'pandas.core.frame.DataFrame'>\n",
      "RangeIndex: 190000 entries, 0 to 189999\n",
      "Data columns (total 21 columns):\n",
      "order_id                   190000 non-null int64\n",
      "status                     190000 non-null object\n",
      "email_anoni                190000 non-null object\n",
      "billing_country_code       189223 non-null object\n",
      "shipping_country_code      189721 non-null object\n",
      "shipping_method            185461 non-null object\n",
      "created_at                 190000 non-null object\n",
      "total_spent                190000 non-null float64\n",
      "currency_code              190000 non-null object\n",
      "gateway                    189862 non-null object\n",
      "V1_link                    189993 non-null object\n",
      "V2_distance                157964 non-null float64\n",
      "V3_distance                158957 non-null float64\n",
      "V4_our_age                 189993 non-null float64\n",
      "V5_merchant_age            189993 non-null float64\n",
      "V6_avs_result              189993 non-null object\n",
      "V7_bill_ship_name_match    189993 non-null object\n",
      "V8_ip                      185132 non-null float64\n",
      "V9_cookie                  189816 non-null float64\n",
      "V10_cookie                 188148 non-null float64\n",
      "V11_cookie                 111295 non-null float64\n",
      "dtypes: float64(9), int64(1), object(11)\n",
      "memory usage: 30.4+ MB\n"
     ]
    }
   ],
   "source": [
    "df.info()"
   ]
  },
  {
   "cell_type": "code",
   "execution_count": 496,
   "metadata": {
    "collapsed": false
   },
   "outputs": [
    {
     "data": {
      "text/plain": [
       "order_id                    0.000000\n",
       "status                      0.000000\n",
       "email_anoni                 0.000000\n",
       "billing_country_code        0.408947\n",
       "shipping_country_code       0.146842\n",
       "shipping_method             2.388947\n",
       "created_at                  0.000000\n",
       "total_spent                 0.000000\n",
       "currency_code               0.000000\n",
       "gateway                     0.072632\n",
       "V1_link                     0.003684\n",
       "V2_distance                16.861053\n",
       "V3_distance                16.338421\n",
       "V4_our_age                  0.003684\n",
       "V5_merchant_age             0.003684\n",
       "V6_avs_result               0.003684\n",
       "V7_bill_ship_name_match     0.003684\n",
       "V8_ip                       2.562105\n",
       "V9_cookie                   0.096842\n",
       "V10_cookie                  0.974737\n",
       "V11_cookie                 41.423684\n",
       "dtype: float64"
      ]
     },
     "execution_count": 496,
     "metadata": {},
     "output_type": "execute_result"
    }
   ],
   "source": [
    "# Percentages of missing values\n",
    "df.isnull().sum().sum()\n",
    "df.isnull().sum()/len(df)*100"
   ]
  },
  {
   "cell_type": "code",
   "execution_count": 497,
   "metadata": {
    "collapsed": false
   },
   "outputs": [
    {
     "data": {
      "text/plain": [
       "order_id                   189041\n",
       "status                          3\n",
       "email_anoni                189946\n",
       "billing_country_code          213\n",
       "shipping_country_code         195\n",
       "shipping_method              2367\n",
       "created_at                    519\n",
       "total_spent                 89925\n",
       "currency_code                  35\n",
       "gateway                       255\n",
       "V1_link                         2\n",
       "V2_distance                 10530\n",
       "V3_distance                 10707\n",
       "V4_our_age                   6324\n",
       "V5_merchant_age              2920\n",
       "V6_avs_result                   7\n",
       "V7_bill_ship_name_match         4\n",
       "V8_ip                         160\n",
       "V9_cookie                    2995\n",
       "V10_cookie                  45978\n",
       "V11_cookie                  79870\n",
       "dtype: int64"
      ]
     },
     "execution_count": 497,
     "metadata": {},
     "output_type": "execute_result"
    }
   ],
   "source": [
    "df.nunique()"
   ]
  },
  {
   "cell_type": "markdown",
   "metadata": {},
   "source": [
    "\"order_id\" and \"email_anoni\" features have too many unique values, I would have recommended to add the fraudulent email addresses to some black list and to work with NLP for identifing new fraudulent addresses. "
   ]
  },
  {
   "cell_type": "code",
   "execution_count": 498,
   "metadata": {
    "collapsed": false
   },
   "outputs": [
    {
     "name": "stderr",
     "output_type": "stream",
     "text": [
      "C:\\Users\\user\\Anaconda3\\envs\\cs231n\\lib\\site-packages\\seaborn\\categorical.py:1428: FutureWarning: remove_na is deprecated and is a private function. Do not use.\n",
      "  stat_data = remove_na(group_data)\n"
     ]
    },
    {
     "data": {
      "image/png": "[encoded data removed]",
      "text/plain": [
       "<Figure size 576x576 with 1 Axes>"
      ]
     },
     "metadata": {},
     "output_type": "display_data"
    }
   ],
   "source": [
    "col = \"status\"\n",
    "ax = sns.countplot(y=\"status\", data=df)\n",
    "plt.title(\"percentages\")\n",
    "plt.xlabel('status')\n",
    "\n",
    "total = len(df[col])\n",
    "for p in ax.patches:\n",
    "        percentage = '{:.1f}%'.format(100 * p.get_width()/total)\n",
    "        x = p.get_x() + p.get_width() + 0.02\n",
    "        y = p.get_y() + p.get_height()/2\n",
    "        ax.annotate(percentage, (x, y))\n",
    "\n",
    "plt.show()"
   ]
  },
  {
   "cell_type": "code",
   "execution_count": 499,
   "metadata": {
    "collapsed": false
   },
   "outputs": [
    {
     "data": {
      "text/plain": [
       "status\n",
       "approved      165441\n",
       "chargeback      4559\n",
       "declined       20000\n",
       "Name: status, dtype: int64"
      ]
     },
     "execution_count": 499,
     "metadata": {},
     "output_type": "execute_result"
    }
   ],
   "source": [
    "df.groupby(['status'])['status'].count()"
   ]
  },
  {
   "cell_type": "markdown",
   "metadata": {},
   "source": [
    "#### Adding new features"
   ]
  },
  {
   "cell_type": "code",
   "execution_count": 525,
   "metadata": {
    "collapsed": true
   },
   "outputs": [],
   "source": [
    "df[\"address_difference\"] = df.apply(lambda x: True if (x['shipping_country_code']==x['billing_country_code'])&(pd.notnull(x['billing_country_code'])&pd.notnull(x['shipping_country_code'])) else False, axis=1)"
   ]
  },
  {
   "cell_type": "code",
   "execution_count": 526,
   "metadata": {
    "collapsed": false
   },
   "outputs": [],
   "source": [
    "df['created_at']=pd.to_datetime(df['created_at'])\n",
    "df['weekday'] = df['created_at'].dt.dayofweek\n",
    "df['month'] = df['created_at'].dt.month"
   ]
  },
  {
   "cell_type": "markdown",
   "metadata": {},
   "source": [
    "Setting data types"
   ]
  },
  {
   "cell_type": "code",
   "execution_count": 527,
   "metadata": {
    "collapsed": true
   },
   "outputs": [],
   "source": [
    "categories = ['order_id','email_anoni','billing_country_code','shipping_country_code','shipping_method','currency_code','gateway','V1_link','V6_avs_result','V7_bill_ship_name_match','address_difference', 'weekday', 'month']\n",
    "for col in categories:\n",
    "    df[col] = df[col].astype('category')"
   ]
  },
  {
   "cell_type": "code",
   "execution_count": 528,
   "metadata": {
    "collapsed": true
   },
   "outputs": [],
   "source": [
    "all_col = df.columns\n",
    "num_columns = df._get_numeric_data().columns\n",
    "#cat_columns = all_col.drop(num_columns)"
   ]
  },
  {
   "cell_type": "markdown",
   "metadata": {},
   "source": [
    "#### Investigation of missing values and their connection to fraudulent transactions"
   ]
  },
  {
   "cell_type": "code",
   "execution_count": 529,
   "metadata": {
    "collapsed": false
   },
   "outputs": [
    {
     "data": {
      "text/html": [
       "<div>\n",
       "<style scoped>\n",
       "    .dataframe tbody tr th:only-of-type {\n",
       "        vertical-align: middle;\n",
       "    }\n",
       "\n",
       "    .dataframe tbody tr th {\n",
       "        vertical-align: top;\n",
       "    }\n",
       "\n",
       "    .dataframe thead th {\n",
       "        text-align: right;\n",
       "    }\n",
       "</style>\n",
       "<table border=\"1\" class=\"dataframe\">\n",
       "  <thead>\n",
       "    <tr style=\"text-align: right;\">\n",
       "      <th></th>\n",
       "      <th>status</th>\n",
       "      <th>percent</th>\n",
       "    </tr>\n",
       "    <tr>\n",
       "      <th>status</th>\n",
       "      <th></th>\n",
       "      <th></th>\n",
       "    </tr>\n",
       "  </thead>\n",
       "  <tbody>\n",
       "    <tr>\n",
       "      <th>approved</th>\n",
       "      <td>27044</td>\n",
       "      <td>84.417530</td>\n",
       "    </tr>\n",
       "    <tr>\n",
       "      <th>chargeback</th>\n",
       "      <td>690</td>\n",
       "      <td>2.153827</td>\n",
       "    </tr>\n",
       "    <tr>\n",
       "      <th>declined</th>\n",
       "      <td>4302</td>\n",
       "      <td>13.428643</td>\n",
       "    </tr>\n",
       "  </tbody>\n",
       "</table>\n",
       "</div>"
      ],
      "text/plain": [
       "            status    percent\n",
       "status                       \n",
       "approved     27044  84.417530\n",
       "chargeback     690   2.153827\n",
       "declined      4302  13.428643"
      ]
     },
     "execution_count": 529,
     "metadata": {},
     "output_type": "execute_result"
    }
   ],
   "source": [
    "d = pd.DataFrame(df.loc[pd.isnull(df['V2_distance'])==True,:].groupby(['status'])['status'].count())\n",
    "d['percent'] = (d['status']/d['status'].sum())*100\n",
    "d"
   ]
  },
  {
   "cell_type": "code",
   "execution_count": 377,
   "metadata": {
    "collapsed": false
   },
   "outputs": [
    {
     "data": {
      "text/html": [
       "<div>\n",
       "<style scoped>\n",
       "    .dataframe tbody tr th:only-of-type {\n",
       "        vertical-align: middle;\n",
       "    }\n",
       "\n",
       "    .dataframe tbody tr th {\n",
       "        vertical-align: top;\n",
       "    }\n",
       "\n",
       "    .dataframe thead th {\n",
       "        text-align: right;\n",
       "    }\n",
       "</style>\n",
       "<table border=\"1\" class=\"dataframe\">\n",
       "  <thead>\n",
       "    <tr style=\"text-align: right;\">\n",
       "      <th></th>\n",
       "      <th>status</th>\n",
       "      <th>percent</th>\n",
       "    </tr>\n",
       "    <tr>\n",
       "      <th>status</th>\n",
       "      <th></th>\n",
       "      <th></th>\n",
       "    </tr>\n",
       "  </thead>\n",
       "  <tbody>\n",
       "    <tr>\n",
       "      <th>approved</th>\n",
       "      <td>138397</td>\n",
       "      <td>87.613000</td>\n",
       "    </tr>\n",
       "    <tr>\n",
       "      <th>chargeback</th>\n",
       "      <td>3869</td>\n",
       "      <td>2.449292</td>\n",
       "    </tr>\n",
       "    <tr>\n",
       "      <th>declined</th>\n",
       "      <td>15698</td>\n",
       "      <td>9.937707</td>\n",
       "    </tr>\n",
       "  </tbody>\n",
       "</table>\n",
       "</div>"
      ],
      "text/plain": [
       "            status    percent\n",
       "status                       \n",
       "approved    138397  87.613000\n",
       "chargeback    3869   2.449292\n",
       "declined     15698   9.937707"
      ]
     },
     "execution_count": 377,
     "metadata": {},
     "output_type": "execute_result"
    }
   ],
   "source": [
    "d = pd.DataFrame(df.loc[pd.isnull(df['V2_distance'])==False,:].groupby(['status'])['status'].count())\n",
    "d['percent'] = (d['status']/d['status'].sum())*100\n",
    "d"
   ]
  },
  {
   "cell_type": "code",
   "execution_count": 378,
   "metadata": {
    "collapsed": false
   },
   "outputs": [
    {
     "data": {
      "text/html": [
       "<div>\n",
       "<style scoped>\n",
       "    .dataframe tbody tr th:only-of-type {\n",
       "        vertical-align: middle;\n",
       "    }\n",
       "\n",
       "    .dataframe tbody tr th {\n",
       "        vertical-align: top;\n",
       "    }\n",
       "\n",
       "    .dataframe thead th {\n",
       "        text-align: right;\n",
       "    }\n",
       "</style>\n",
       "<table border=\"1\" class=\"dataframe\">\n",
       "  <thead>\n",
       "    <tr style=\"text-align: right;\">\n",
       "      <th></th>\n",
       "      <th>status</th>\n",
       "      <th>percent</th>\n",
       "    </tr>\n",
       "    <tr>\n",
       "      <th>status</th>\n",
       "      <th></th>\n",
       "      <th></th>\n",
       "    </tr>\n",
       "  </thead>\n",
       "  <tbody>\n",
       "    <tr>\n",
       "      <th>approved</th>\n",
       "      <td>68454</td>\n",
       "      <td>86.975415</td>\n",
       "    </tr>\n",
       "    <tr>\n",
       "      <th>chargeback</th>\n",
       "      <td>1187</td>\n",
       "      <td>1.508163</td>\n",
       "    </tr>\n",
       "    <tr>\n",
       "      <th>declined</th>\n",
       "      <td>9064</td>\n",
       "      <td>11.516422</td>\n",
       "    </tr>\n",
       "  </tbody>\n",
       "</table>\n",
       "</div>"
      ],
      "text/plain": [
       "            status    percent\n",
       "status                       \n",
       "approved     68454  86.975415\n",
       "chargeback    1187   1.508163\n",
       "declined      9064  11.516422"
      ]
     },
     "execution_count": 378,
     "metadata": {},
     "output_type": "execute_result"
    }
   ],
   "source": [
    "d = pd.DataFrame(df.loc[pd.isnull(df['V11_cookie'])==True,:].groupby(['status'])['status'].count())\n",
    "d['percent'] = (d['status']/d['status'].sum())*100\n",
    "d"
   ]
  },
  {
   "cell_type": "code",
   "execution_count": 379,
   "metadata": {
    "collapsed": false
   },
   "outputs": [
    {
     "data": {
      "text/html": [
       "<div>\n",
       "<style scoped>\n",
       "    .dataframe tbody tr th:only-of-type {\n",
       "        vertical-align: middle;\n",
       "    }\n",
       "\n",
       "    .dataframe tbody tr th {\n",
       "        vertical-align: top;\n",
       "    }\n",
       "\n",
       "    .dataframe thead th {\n",
       "        text-align: right;\n",
       "    }\n",
       "</style>\n",
       "<table border=\"1\" class=\"dataframe\">\n",
       "  <thead>\n",
       "    <tr style=\"text-align: right;\">\n",
       "      <th></th>\n",
       "      <th>status</th>\n",
       "      <th>percent</th>\n",
       "    </tr>\n",
       "    <tr>\n",
       "      <th>status</th>\n",
       "      <th></th>\n",
       "      <th></th>\n",
       "    </tr>\n",
       "  </thead>\n",
       "  <tbody>\n",
       "    <tr>\n",
       "      <th>approved</th>\n",
       "      <td>96987</td>\n",
       "      <td>87.144077</td>\n",
       "    </tr>\n",
       "    <tr>\n",
       "      <th>chargeback</th>\n",
       "      <td>3372</td>\n",
       "      <td>3.029786</td>\n",
       "    </tr>\n",
       "    <tr>\n",
       "      <th>declined</th>\n",
       "      <td>10936</td>\n",
       "      <td>9.826138</td>\n",
       "    </tr>\n",
       "  </tbody>\n",
       "</table>\n",
       "</div>"
      ],
      "text/plain": [
       "            status    percent\n",
       "status                       \n",
       "approved     96987  87.144077\n",
       "chargeback    3372   3.029786\n",
       "declined     10936   9.826138"
      ]
     },
     "execution_count": 379,
     "metadata": {},
     "output_type": "execute_result"
    }
   ],
   "source": [
    "d = pd.DataFrame(df.loc[pd.isnull(df['V11_cookie'])==False,:].groupby(['status'])['status'].count())\n",
    "d['percent'] = (d['status']/d['status'].sum())*100\n",
    "d"
   ]
  },
  {
   "cell_type": "markdown",
   "metadata": {},
   "source": [
    "No direct connection was founded between the missingness and the fraudulent transactions."
   ]
  },
  {
   "cell_type": "markdown",
   "metadata": {},
   "source": [
    "#### Descriptive statistics"
   ]
  },
  {
   "cell_type": "code",
   "execution_count": 380,
   "metadata": {
    "collapsed": false
   },
   "outputs": [
    {
     "data": {
      "text/plain": [
       "0"
      ]
     },
     "execution_count": 380,
     "metadata": {},
     "output_type": "execute_result"
    }
   ],
   "source": [
    "# Check for duplicated rows\n",
    "df.duplicated().sum().sum()"
   ]
  },
  {
   "cell_type": "code",
   "execution_count": 42,
   "metadata": {
    "collapsed": false
   },
   "outputs": [],
   "source": [
    "def describe(df):\n",
    "    return pd.concat([df.describe().T,\n",
    "                      df.mad().rename('mad'),\n",
    "                      df.skew().rename('skew'),\n",
    "                      df.kurt().rename('kurt'),\n",
    "                     ], axis=1).T"
   ]
  },
  {
   "cell_type": "code",
   "execution_count": 43,
   "metadata": {
    "collapsed": false
   },
   "outputs": [
    {
     "data": {
      "text/html": [
       "<div>\n",
       "<style scoped>\n",
       "    .dataframe tbody tr th:only-of-type {\n",
       "        vertical-align: middle;\n",
       "    }\n",
       "\n",
       "    .dataframe tbody tr th {\n",
       "        vertical-align: top;\n",
       "    }\n",
       "\n",
       "    .dataframe thead th {\n",
       "        text-align: right;\n",
       "    }\n",
       "</style>\n",
       "<table border=\"1\" class=\"dataframe\">\n",
       "  <thead>\n",
       "    <tr style=\"text-align: right;\">\n",
       "      <th></th>\n",
       "      <th>total_spent</th>\n",
       "      <th>V2_distance</th>\n",
       "      <th>V3_distance</th>\n",
       "      <th>V4_our_age</th>\n",
       "      <th>V5_merchant_age</th>\n",
       "      <th>V8_ip</th>\n",
       "      <th>V9_cookie</th>\n",
       "      <th>V10_cookie</th>\n",
       "      <th>V11_cookie</th>\n",
       "    </tr>\n",
       "  </thead>\n",
       "  <tbody>\n",
       "    <tr>\n",
       "      <th>count</th>\n",
       "      <td>190000.000000</td>\n",
       "      <td>157964.000000</td>\n",
       "      <td>158957.000000</td>\n",
       "      <td>189993.000000</td>\n",
       "      <td>189993.000000</td>\n",
       "      <td>185132.000000</td>\n",
       "      <td>189816.000000</td>\n",
       "      <td>188148.000000</td>\n",
       "      <td>111295.000000</td>\n",
       "    </tr>\n",
       "    <tr>\n",
       "      <th>mean</th>\n",
       "      <td>262.806693</td>\n",
       "      <td>1176.859443</td>\n",
       "      <td>1262.328208</td>\n",
       "      <td>653.947451</td>\n",
       "      <td>216.220645</td>\n",
       "      <td>0.076579</td>\n",
       "      <td>82.207796</td>\n",
       "      <td>5.305185</td>\n",
       "      <td>47.386270</td>\n",
       "    </tr>\n",
       "    <tr>\n",
       "      <th>std</th>\n",
       "      <td>497.157831</td>\n",
       "      <td>3088.102927</td>\n",
       "      <td>3206.620899</td>\n",
       "      <td>2046.051781</td>\n",
       "      <td>6976.480661</td>\n",
       "      <td>0.387298</td>\n",
       "      <td>589.419776</td>\n",
       "      <td>9.227724</td>\n",
       "      <td>114.170882</td>\n",
       "    </tr>\n",
       "    <tr>\n",
       "      <th>min</th>\n",
       "      <td>0.000000</td>\n",
       "      <td>0.000000</td>\n",
       "      <td>0.000000</td>\n",
       "      <td>0.000000</td>\n",
       "      <td>-323.000000</td>\n",
       "      <td>0.000000</td>\n",
       "      <td>0.000000</td>\n",
       "      <td>0.000000</td>\n",
       "      <td>-140.884769</td>\n",
       "    </tr>\n",
       "    <tr>\n",
       "      <th>25%</th>\n",
       "      <td>77.400000</td>\n",
       "      <td>4.000000</td>\n",
       "      <td>4.000000</td>\n",
       "      <td>0.000000</td>\n",
       "      <td>0.000000</td>\n",
       "      <td>0.000000</td>\n",
       "      <td>0.000000</td>\n",
       "      <td>0.631284</td>\n",
       "      <td>0.016134</td>\n",
       "    </tr>\n",
       "    <tr>\n",
       "      <th>50%</th>\n",
       "      <td>140.400000</td>\n",
       "      <td>13.000000</td>\n",
       "      <td>13.000000</td>\n",
       "      <td>51.000000</td>\n",
       "      <td>1.000000</td>\n",
       "      <td>0.000000</td>\n",
       "      <td>4.000000</td>\n",
       "      <td>1.533317</td>\n",
       "      <td>1.773900</td>\n",
       "    </tr>\n",
       "    <tr>\n",
       "      <th>75%</th>\n",
       "      <td>267.000000</td>\n",
       "      <td>174.000000</td>\n",
       "      <td>198.000000</td>\n",
       "      <td>692.000000</td>\n",
       "      <td>82.000000</td>\n",
       "      <td>0.000000</td>\n",
       "      <td>18.000000</td>\n",
       "      <td>4.443918</td>\n",
       "      <td>36.878183</td>\n",
       "    </tr>\n",
       "    <tr>\n",
       "      <th>max</th>\n",
       "      <td>57746.005396</td>\n",
       "      <td>19610.000000</td>\n",
       "      <td>19610.000000</td>\n",
       "      <td>730603.000000</td>\n",
       "      <td>736666.000000</td>\n",
       "      <td>4.000000</td>\n",
       "      <td>24260.000000</td>\n",
       "      <td>100.000000</td>\n",
       "      <td>1181.605035</td>\n",
       "    </tr>\n",
       "    <tr>\n",
       "      <th>mad</th>\n",
       "      <td>222.562151</td>\n",
       "      <td>1867.092519</td>\n",
       "      <td>1989.306786</td>\n",
       "      <td>828.644485</td>\n",
       "      <td>327.305372</td>\n",
       "      <td>0.146697</td>\n",
       "      <td>131.461567</td>\n",
       "      <td>5.884010</td>\n",
       "      <td>64.709058</td>\n",
       "    </tr>\n",
       "    <tr>\n",
       "      <th>skew</th>\n",
       "      <td>21.731594</td>\n",
       "      <td>2.893895</td>\n",
       "      <td>2.759254</td>\n",
       "      <td>239.454564</td>\n",
       "      <td>105.240127</td>\n",
       "      <td>5.321033</td>\n",
       "      <td>17.067594</td>\n",
       "      <td>3.028866</td>\n",
       "      <td>4.201627</td>\n",
       "    </tr>\n",
       "    <tr>\n",
       "      <th>kurt</th>\n",
       "      <td>1444.504407</td>\n",
       "      <td>7.339418</td>\n",
       "      <td>6.513904</td>\n",
       "      <td>85265.236255</td>\n",
       "      <td>11105.992190</td>\n",
       "      <td>28.909511</td>\n",
       "      <td>377.083687</td>\n",
       "      <td>11.399652</td>\n",
       "      <td>22.222131</td>\n",
       "    </tr>\n",
       "  </tbody>\n",
       "</table>\n",
       "</div>"
      ],
      "text/plain": [
       "         total_spent    V2_distance    V3_distance     V4_our_age  \\\n",
       "count  190000.000000  157964.000000  158957.000000  189993.000000   \n",
       "mean      262.806693    1176.859443    1262.328208     653.947451   \n",
       "std       497.157831    3088.102927    3206.620899    2046.051781   \n",
       "min         0.000000       0.000000       0.000000       0.000000   \n",
       "25%        77.400000       4.000000       4.000000       0.000000   \n",
       "50%       140.400000      13.000000      13.000000      51.000000   \n",
       "75%       267.000000     174.000000     198.000000     692.000000   \n",
       "max     57746.005396   19610.000000   19610.000000  730603.000000   \n",
       "mad       222.562151    1867.092519    1989.306786     828.644485   \n",
       "skew       21.731594       2.893895       2.759254     239.454564   \n",
       "kurt     1444.504407       7.339418       6.513904   85265.236255   \n",
       "\n",
       "       V5_merchant_age          V8_ip      V9_cookie     V10_cookie  \\\n",
       "count    189993.000000  185132.000000  189816.000000  188148.000000   \n",
       "mean        216.220645       0.076579      82.207796       5.305185   \n",
       "std        6976.480661       0.387298     589.419776       9.227724   \n",
       "min        -323.000000       0.000000       0.000000       0.000000   \n",
       "25%           0.000000       0.000000       0.000000       0.631284   \n",
       "50%           1.000000       0.000000       4.000000       1.533317   \n",
       "75%          82.000000       0.000000      18.000000       4.443918   \n",
       "max      736666.000000       4.000000   24260.000000     100.000000   \n",
       "mad         327.305372       0.146697     131.461567       5.884010   \n",
       "skew        105.240127       5.321033      17.067594       3.028866   \n",
       "kurt      11105.992190      28.909511     377.083687      11.399652   \n",
       "\n",
       "          V11_cookie  \n",
       "count  111295.000000  \n",
       "mean       47.386270  \n",
       "std       114.170882  \n",
       "min      -140.884769  \n",
       "25%         0.016134  \n",
       "50%         1.773900  \n",
       "75%        36.878183  \n",
       "max      1181.605035  \n",
       "mad        64.709058  \n",
       "skew        4.201627  \n",
       "kurt       22.222131  "
      ]
     },
     "execution_count": 43,
     "metadata": {},
     "output_type": "execute_result"
    }
   ],
   "source": [
    "describe(df[num_columns])"
   ]
  },
  {
   "cell_type": "code",
   "execution_count": 44,
   "metadata": {
    "collapsed": false
   },
   "outputs": [
    {
     "data": {
      "text/html": [
       "<div>\n",
       "<style scoped>\n",
       "    .dataframe tbody tr th:only-of-type {\n",
       "        vertical-align: middle;\n",
       "    }\n",
       "\n",
       "    .dataframe tbody tr th {\n",
       "        vertical-align: top;\n",
       "    }\n",
       "\n",
       "    .dataframe thead th {\n",
       "        text-align: right;\n",
       "    }\n",
       "</style>\n",
       "<table border=\"1\" class=\"dataframe\">\n",
       "  <thead>\n",
       "    <tr style=\"text-align: right;\">\n",
       "      <th></th>\n",
       "      <th>order_id</th>\n",
       "      <th>status</th>\n",
       "      <th>email_anoni</th>\n",
       "      <th>billing_country_code</th>\n",
       "      <th>shipping_country_code</th>\n",
       "      <th>shipping_method</th>\n",
       "      <th>currency_code</th>\n",
       "      <th>gateway</th>\n",
       "      <th>V1_link</th>\n",
       "      <th>V6_avs_result</th>\n",
       "      <th>V7_bill_ship_name_match</th>\n",
       "      <th>address_difference</th>\n",
       "      <th>weekday</th>\n",
       "      <th>month</th>\n",
       "    </tr>\n",
       "  </thead>\n",
       "  <tbody>\n",
       "    <tr>\n",
       "      <th>count</th>\n",
       "      <td>190000</td>\n",
       "      <td>190000</td>\n",
       "      <td>190000</td>\n",
       "      <td>189223</td>\n",
       "      <td>189721</td>\n",
       "      <td>185461</td>\n",
       "      <td>190000</td>\n",
       "      <td>189862</td>\n",
       "      <td>189993</td>\n",
       "      <td>189993</td>\n",
       "      <td>189993</td>\n",
       "      <td>190000</td>\n",
       "      <td>190000</td>\n",
       "      <td>190000</td>\n",
       "    </tr>\n",
       "    <tr>\n",
       "      <th>unique</th>\n",
       "      <td>189041</td>\n",
       "      <td>3</td>\n",
       "      <td>189946</td>\n",
       "      <td>213</td>\n",
       "      <td>195</td>\n",
       "      <td>2367</td>\n",
       "      <td>35</td>\n",
       "      <td>255</td>\n",
       "      <td>2</td>\n",
       "      <td>7</td>\n",
       "      <td>4</td>\n",
       "      <td>2</td>\n",
       "      <td>7</td>\n",
       "      <td>12</td>\n",
       "    </tr>\n",
       "    <tr>\n",
       "      <th>top</th>\n",
       "      <td>171520821</td>\n",
       "      <td>approved</td>\n",
       "      <td>NA@personal_domain.com</td>\n",
       "      <td>US</td>\n",
       "      <td>US</td>\n",
       "      <td>value_1645</td>\n",
       "      <td>USD</td>\n",
       "      <td>value_65</td>\n",
       "      <td>False</td>\n",
       "      <td>Unsupported</td>\n",
       "      <td>FL</td>\n",
       "      <td>True</td>\n",
       "      <td>3</td>\n",
       "      <td>11</td>\n",
       "    </tr>\n",
       "    <tr>\n",
       "      <th>freq</th>\n",
       "      <td>3</td>\n",
       "      <td>165441</td>\n",
       "      <td>30</td>\n",
       "      <td>65900</td>\n",
       "      <td>71482</td>\n",
       "      <td>20896</td>\n",
       "      <td>124681</td>\n",
       "      <td>28344</td>\n",
       "      <td>188851</td>\n",
       "      <td>68569</td>\n",
       "      <td>167300</td>\n",
       "      <td>178653</td>\n",
       "      <td>31407</td>\n",
       "      <td>25736</td>\n",
       "    </tr>\n",
       "  </tbody>\n",
       "</table>\n",
       "</div>"
      ],
      "text/plain": [
       "         order_id    status             email_anoni billing_country_code  \\\n",
       "count      190000    190000                  190000               189223   \n",
       "unique     189041         3                  189946                  213   \n",
       "top     171520821  approved  NA@personal_domain.com                   US   \n",
       "freq            3    165441                      30                65900   \n",
       "\n",
       "       shipping_country_code shipping_method currency_code   gateway V1_link  \\\n",
       "count                 189721          185461        190000    189862  189993   \n",
       "unique                   195            2367            35       255       2   \n",
       "top                       US      value_1645           USD  value_65   False   \n",
       "freq                   71482           20896        124681     28344  188851   \n",
       "\n",
       "       V6_avs_result V7_bill_ship_name_match address_difference  weekday  \\\n",
       "count         189993                  189993             190000   190000   \n",
       "unique             7                       4                  2        7   \n",
       "top      Unsupported                      FL               True        3   \n",
       "freq           68569                  167300             178653    31407   \n",
       "\n",
       "         month  \n",
       "count   190000  \n",
       "unique      12  \n",
       "top         11  \n",
       "freq     25736  "
      ]
     },
     "execution_count": 44,
     "metadata": {},
     "output_type": "execute_result"
    }
   ],
   "source": [
    "df.select_dtypes(include='category').describe()"
   ]
  },
  {
   "cell_type": "code",
   "execution_count": 1264,
   "metadata": {
    "collapsed": false
   },
   "outputs": [
    {
     "data": {
      "image/png": "[encoded data removed]",
      "text/plain": [
       "<Figure size 576x576 with 1 Axes>"
      ]
     },
     "metadata": {},
     "output_type": "display_data"
    },
    {
     "name": "stderr",
     "output_type": "stream",
     "text": [
      "C:\\Users\\user\\Anaconda3\\envs\\cs231n\\lib\\site-packages\\numpy\\lib\\function_base.py:748: RuntimeWarning: invalid value encountered in greater_equal\n",
      "  keep = (tmp_a >= mn)\n",
      "C:\\Users\\user\\Anaconda3\\envs\\cs231n\\lib\\site-packages\\numpy\\lib\\function_base.py:749: RuntimeWarning: invalid value encountered in less_equal\n",
      "  keep &= (tmp_a <= mx)\n"
     ]
    },
    {
     "data": {
      "image/png": "[encoded data removed]",
      "text/plain": [
       "<Figure size 576x576 with 1 Axes>"
      ]
     },
     "metadata": {},
     "output_type": "display_data"
    },
    {
     "data": {
      "image/png": "[encoded data removed]",
      "text/plain": [
       "<Figure size 576x576 with 1 Axes>"
      ]
     },
     "metadata": {},
     "output_type": "display_data"
    },
    {
     "data": {
      "image/png": "[encoded data removed]",
      "text/plain": [
       "<Figure size 576x576 with 1 Axes>"
      ]
     },
     "metadata": {},
     "output_type": "display_data"
    },
    {
     "data": {
      "image/png": "[encoded data removed]",
      "text/plain": [
       "<Figure size 576x576 with 1 Axes>"
      ]
     },
     "metadata": {},
     "output_type": "display_data"
    },
    {
     "data": {
      "image/png": "[encoded data removed]",
      "text/plain": [
       "<Figure size 576x576 with 1 Axes>"
      ]
     },
     "metadata": {},
     "output_type": "display_data"
    },
    {
     "data": {
      "image/png": "[encoded data removed]",
      "text/plain": [
       "<Figure size 576x576 with 1 Axes>"
      ]
     },
     "metadata": {},
     "output_type": "display_data"
    },
    {
     "data": {
      "image/png": "[encoded data removed]",
      "text/plain": [
       "<Figure size 576x576 with 1 Axes>"
      ]
     },
     "metadata": {},
     "output_type": "display_data"
    },
    {
     "data": {
      "image/png": "[encoded data removed]",
      "text/plain": [
       "<Figure size 576x576 with 1 Axes>"
      ]
     },
     "metadata": {},
     "output_type": "display_data"
    },
    {
     "data": {
      "image/png": "[encoded data removed]",
      "text/plain": [
       "<Figure size 576x576 with 1 Axes>"
      ]
     },
     "metadata": {},
     "output_type": "display_data"
    }
   ],
   "source": [
    "for col in num_columns:\n",
    "    col_data = df[col]\n",
    "    plt.hist(col_data)\n",
    "    plt.xlabel(col)\n",
    "    plt.ylabel('freq')\n",
    "    plt.title('Histogram')\n",
    "    plt.grid(True)\n",
    "    plt.show()"
   ]
  },
  {
   "cell_type": "code",
   "execution_count": 1265,
   "metadata": {
    "collapsed": false
   },
   "outputs": [
    {
     "name": "stderr",
     "output_type": "stream",
     "text": [
      "C:\\Users\\user\\Anaconda3\\envs\\cs231n\\lib\\site-packages\\seaborn\\categorical.py:454: FutureWarning: remove_na is deprecated and is a private function. Do not use.\n",
      "  box_data = remove_na(group_data)\n"
     ]
    },
    {
     "data": {
      "image/png": "[encoded data removed]",
      "text/plain": [
       "<Figure size 576x576 with 1 Axes>"
      ]
     },
     "metadata": {},
     "output_type": "display_data"
    },
    {
     "data": {
      "image/png": "[encoded data removed]",
      "text/plain": [
       "<Figure size 576x576 with 1 Axes>"
      ]
     },
     "metadata": {},
     "output_type": "display_data"
    },
    {
     "data": {
      "image/png": "[encoded data removed]",
      "text/plain": [
       "<Figure size 576x576 with 1 Axes>"
      ]
     },
     "metadata": {},
     "output_type": "display_data"
    },
    {
     "data": {
      "image/png": "[encoded data removed]",
      "text/plain": [
       "<Figure size 576x576 with 1 Axes>"
      ]
     },
     "metadata": {},
     "output_type": "display_data"
    },
    {
     "data": {
      "image/png": "[encoded data removed]",
      "text/plain": [
       "<Figure size 576x576 with 1 Axes>"
      ]
     },
     "metadata": {},
     "output_type": "display_data"
    },
    {
     "data": {
      "image/png": "[encoded data removed]",
      "text/plain": [
       "<Figure size 576x576 with 1 Axes>"
      ]
     },
     "metadata": {},
     "output_type": "display_data"
    },
    {
     "data": {
      "image/png": "[encoded data removed]",
      "text/plain": [
       "<Figure size 576x576 with 1 Axes>"
      ]
     },
     "metadata": {},
     "output_type": "display_data"
    },
    {
     "data": {
      "image/png": "[encoded data removed]",
      "text/plain": [
       "<Figure size 576x576 with 1 Axes>"
      ]
     },
     "metadata": {},
     "output_type": "display_data"
    },
    {
     "data": {
      "image/png": "[encoded data removed]",
      "text/plain": [
       "<Figure size 576x576 with 1 Axes>"
      ]
     },
     "metadata": {},
     "output_type": "display_data"
    },
    {
     "data": {
      "image/png": "[encoded data removed]",
      "text/plain": [
       "<Figure size 576x576 with 1 Axes>"
      ]
     },
     "metadata": {},
     "output_type": "display_data"
    }
   ],
   "source": [
    "# Boxplot\n",
    "for col in num_columns:\n",
    "    sns.boxplot(data=df[col])\n",
    "    plt.xlabel(col)\n",
    "    fig=plt.gcf()\n",
    "    fig.set_size_inches(8,8)\n",
    "    plt.show()"
   ]
  },
  {
   "cell_type": "code",
   "execution_count": 1266,
   "metadata": {
    "collapsed": false
   },
   "outputs": [
    {
     "name": "stderr",
     "output_type": "stream",
     "text": [
      "C:\\Users\\user\\Anaconda3\\envs\\cs231n\\lib\\site-packages\\seaborn\\categorical.py:1428: FutureWarning: remove_na is deprecated and is a private function. Do not use.\n",
      "  stat_data = remove_na(group_data)\n"
     ]
    },
    {
     "data": {
      "image/png": "[encoded data removed]",
      "text/plain": [
       "<Figure size 576x288 with 1 Axes>"
      ]
     },
     "metadata": {},
     "output_type": "display_data"
    },
    {
     "data": {
      "image/png": "[encoded data removed]",
      "text/plain": [
       "<Figure size 576x288 with 1 Axes>"
      ]
     },
     "metadata": {},
     "output_type": "display_data"
    },
    {
     "data": {
      "image/png": "[encoded data removed]",
      "text/plain": [
       "<Figure size 576x288 with 1 Axes>"
      ]
     },
     "metadata": {},
     "output_type": "display_data"
    },
    {
     "data": {
      "image/png": "[encoded data removed]",
      "text/plain": [
       "<Figure size 576x288 with 1 Axes>"
      ]
     },
     "metadata": {},
     "output_type": "display_data"
    }
   ],
   "source": [
    "# Bar graphs - for categorical features\n",
    "cats = ['V1_link', 'V6_avs_result', 'V7_bill_ship_name_match', 'address_difference']\n",
    "for col in cats:\n",
    "    sns.factorplot(data=df, x=col, kind= 'count',size=4,aspect=2)\n",
    "    plt.show()"
   ]
  },
  {
   "cell_type": "code",
   "execution_count": 1267,
   "metadata": {
    "collapsed": false
   },
   "outputs": [
    {
     "name": "stderr",
     "output_type": "stream",
     "text": [
      "C:\\Users\\user\\Anaconda3\\envs\\cs231n\\lib\\site-packages\\seaborn\\categorical.py:1468: FutureWarning: remove_na is deprecated and is a private function. Do not use.\n",
      "  stat_data = remove_na(group_data[hue_mask])\n"
     ]
    },
    {
     "data": {
      "image/png": "[encoded data removed]",
      "text/plain": [
       "<Figure size 576x576 with 1 Axes>"
      ]
     },
     "metadata": {},
     "output_type": "display_data"
    },
    {
     "data": {
      "image/png": "[encoded data removed]",
      "text/plain": [
       "<Figure size 576x576 with 1 Axes>"
      ]
     },
     "metadata": {},
     "output_type": "display_data"
    },
    {
     "data": {
      "image/png": "[encoded data removed]",
      "text/plain": [
       "<Figure size 576x576 with 1 Axes>"
      ]
     },
     "metadata": {},
     "output_type": "display_data"
    },
    {
     "data": {
      "image/png": "[encoded data removed]",
      "text/plain": [
       "<Figure size 576x576 with 1 Axes>"
      ]
     },
     "metadata": {},
     "output_type": "display_data"
    }
   ],
   "source": [
    "for col in cats:\n",
    "    sns.countplot(x=col, hue='status', data=df)\n",
    "    plt.show()"
   ]
  },
  {
   "cell_type": "markdown",
   "metadata": {},
   "source": [
    "#### Features are grouped by status"
   ]
  },
  {
   "cell_type": "code",
   "execution_count": 1268,
   "metadata": {
    "collapsed": false
   },
   "outputs": [
    {
     "data": {
      "text/html": [
       "<div>\n",
       "<style scoped>\n",
       "    .dataframe tbody tr th:only-of-type {\n",
       "        vertical-align: middle;\n",
       "    }\n",
       "\n",
       "    .dataframe tbody tr th {\n",
       "        vertical-align: top;\n",
       "    }\n",
       "\n",
       "    .dataframe thead th {\n",
       "        text-align: right;\n",
       "    }\n",
       "</style>\n",
       "<table border=\"1\" class=\"dataframe\">\n",
       "  <thead>\n",
       "    <tr style=\"text-align: right;\">\n",
       "      <th></th>\n",
       "      <th>count</th>\n",
       "      <th>mean</th>\n",
       "      <th>std</th>\n",
       "      <th>min</th>\n",
       "      <th>25%</th>\n",
       "      <th>50%</th>\n",
       "      <th>75%</th>\n",
       "      <th>max</th>\n",
       "    </tr>\n",
       "    <tr>\n",
       "      <th>status</th>\n",
       "      <th></th>\n",
       "      <th></th>\n",
       "      <th></th>\n",
       "      <th></th>\n",
       "      <th></th>\n",
       "      <th></th>\n",
       "      <th></th>\n",
       "      <th></th>\n",
       "    </tr>\n",
       "  </thead>\n",
       "  <tbody>\n",
       "    <tr>\n",
       "      <th>approved</th>\n",
       "      <td>165441.0</td>\n",
       "      <td>238.852496</td>\n",
       "      <td>459.273347</td>\n",
       "      <td>0.0</td>\n",
       "      <td>75.2500</td>\n",
       "      <td>133.930000</td>\n",
       "      <td>233.780000</td>\n",
       "      <td>57746.005396</td>\n",
       "    </tr>\n",
       "    <tr>\n",
       "      <th>chargeback</th>\n",
       "      <td>4559.0</td>\n",
       "      <td>473.475401</td>\n",
       "      <td>753.094543</td>\n",
       "      <td>0.0</td>\n",
       "      <td>155.0000</td>\n",
       "      <td>271.574499</td>\n",
       "      <td>563.817123</td>\n",
       "      <td>14971.660552</td>\n",
       "    </tr>\n",
       "    <tr>\n",
       "      <th>declined</th>\n",
       "      <td>20000.0</td>\n",
       "      <td>412.935083</td>\n",
       "      <td>660.757490</td>\n",
       "      <td>0.0</td>\n",
       "      <td>119.5225</td>\n",
       "      <td>230.565000</td>\n",
       "      <td>491.426752</td>\n",
       "      <td>36008.500000</td>\n",
       "    </tr>\n",
       "  </tbody>\n",
       "</table>\n",
       "</div>"
      ],
      "text/plain": [
       "               count        mean         std  min       25%         50%  \\\n",
       "status                                                                    \n",
       "approved    165441.0  238.852496  459.273347  0.0   75.2500  133.930000   \n",
       "chargeback    4559.0  473.475401  753.094543  0.0  155.0000  271.574499   \n",
       "declined     20000.0  412.935083  660.757490  0.0  119.5225  230.565000   \n",
       "\n",
       "                   75%           max  \n",
       "status                                \n",
       "approved    233.780000  57746.005396  \n",
       "chargeback  563.817123  14971.660552  \n",
       "declined    491.426752  36008.500000  "
      ]
     },
     "execution_count": 1268,
     "metadata": {},
     "output_type": "execute_result"
    }
   ],
   "source": [
    "pd.DataFrame(df.groupby('status')['total_spent'].describe())"
   ]
  },
  {
   "cell_type": "code",
   "execution_count": 1269,
   "metadata": {
    "collapsed": false
   },
   "outputs": [
    {
     "data": {
      "text/html": [
       "<div>\n",
       "<style scoped>\n",
       "    .dataframe tbody tr th:only-of-type {\n",
       "        vertical-align: middle;\n",
       "    }\n",
       "\n",
       "    .dataframe tbody tr th {\n",
       "        vertical-align: top;\n",
       "    }\n",
       "\n",
       "    .dataframe thead th {\n",
       "        text-align: right;\n",
       "    }\n",
       "</style>\n",
       "<table border=\"1\" class=\"dataframe\">\n",
       "  <thead>\n",
       "    <tr style=\"text-align: right;\">\n",
       "      <th></th>\n",
       "      <th>count</th>\n",
       "      <th>unique</th>\n",
       "      <th>top</th>\n",
       "      <th>freq</th>\n",
       "    </tr>\n",
       "    <tr>\n",
       "      <th>status</th>\n",
       "      <th></th>\n",
       "      <th></th>\n",
       "      <th></th>\n",
       "      <th></th>\n",
       "    </tr>\n",
       "  </thead>\n",
       "  <tbody>\n",
       "    <tr>\n",
       "      <th>approved</th>\n",
       "      <td>165438</td>\n",
       "      <td>2</td>\n",
       "      <td>False</td>\n",
       "      <td>164964</td>\n",
       "    </tr>\n",
       "    <tr>\n",
       "      <th>chargeback</th>\n",
       "      <td>4558</td>\n",
       "      <td>2</td>\n",
       "      <td>False</td>\n",
       "      <td>4527</td>\n",
       "    </tr>\n",
       "    <tr>\n",
       "      <th>declined</th>\n",
       "      <td>19997</td>\n",
       "      <td>2</td>\n",
       "      <td>False</td>\n",
       "      <td>19360</td>\n",
       "    </tr>\n",
       "  </tbody>\n",
       "</table>\n",
       "</div>"
      ],
      "text/plain": [
       "             count unique    top    freq\n",
       "status                                  \n",
       "approved    165438      2  False  164964\n",
       "chargeback    4558      2  False    4527\n",
       "declined     19997      2  False   19360"
      ]
     },
     "execution_count": 1269,
     "metadata": {},
     "output_type": "execute_result"
    }
   ],
   "source": [
    "pd.DataFrame(df.groupby('status')['V1_link'].describe())"
   ]
  },
  {
   "cell_type": "code",
   "execution_count": 6,
   "metadata": {
    "collapsed": false
   },
   "outputs": [
    {
     "data": {
      "text/html": [
       "<div>\n",
       "<style scoped>\n",
       "    .dataframe tbody tr th:only-of-type {\n",
       "        vertical-align: middle;\n",
       "    }\n",
       "\n",
       "    .dataframe tbody tr th {\n",
       "        vertical-align: top;\n",
       "    }\n",
       "\n",
       "    .dataframe thead th {\n",
       "        text-align: right;\n",
       "    }\n",
       "</style>\n",
       "<table border=\"1\" class=\"dataframe\">\n",
       "  <thead>\n",
       "    <tr style=\"text-align: right;\">\n",
       "      <th></th>\n",
       "      <th>V1_link</th>\n",
       "      <th>status</th>\n",
       "      <th>status_perc</th>\n",
       "    </tr>\n",
       "  </thead>\n",
       "  <tbody>\n",
       "  </tbody>\n",
       "</table>\n",
       "</div>"
      ],
      "text/plain": [
       "Empty DataFrame\n",
       "Columns: [V1_link, status, status_perc]\n",
       "Index: []"
      ]
     },
     "execution_count": 6,
     "metadata": {},
     "output_type": "execute_result"
    }
   ],
   "source": [
    "perc = df.groupby(['V1_link', 'status']).agg({'status': 'count'})\n",
    "perc2 = perc.groupby(level=0).apply(lambda x: 100 * x / float(x.sum()))\n",
    "perc3 = perc2.add_suffix('_perc').reset_index()\n",
    "perc3[(perc3['status_perc']==100)&(perc3['status'].isin(['declined', 'chargeback']))]"
   ]
  },
  {
   "cell_type": "code",
   "execution_count": 10,
   "metadata": {
    "collapsed": false
   },
   "outputs": [
    {
     "data": {
      "text/html": [
       "<div>\n",
       "<style scoped>\n",
       "    .dataframe tbody tr th:only-of-type {\n",
       "        vertical-align: middle;\n",
       "    }\n",
       "\n",
       "    .dataframe tbody tr th {\n",
       "        vertical-align: top;\n",
       "    }\n",
       "\n",
       "    .dataframe thead th {\n",
       "        text-align: right;\n",
       "    }\n",
       "</style>\n",
       "<table border=\"1\" class=\"dataframe\">\n",
       "  <thead>\n",
       "    <tr style=\"text-align: right;\">\n",
       "      <th></th>\n",
       "      <th></th>\n",
       "      <th>status</th>\n",
       "    </tr>\n",
       "    <tr>\n",
       "      <th>V1_link</th>\n",
       "      <th>status</th>\n",
       "      <th></th>\n",
       "    </tr>\n",
       "  </thead>\n",
       "  <tbody>\n",
       "    <tr>\n",
       "      <th rowspan=\"3\" valign=\"top\">False</th>\n",
       "      <th>approved</th>\n",
       "      <td>87.351404</td>\n",
       "    </tr>\n",
       "    <tr>\n",
       "      <th>chargeback</th>\n",
       "      <td>2.397128</td>\n",
       "    </tr>\n",
       "    <tr>\n",
       "      <th>declined</th>\n",
       "      <td>10.251468</td>\n",
       "    </tr>\n",
       "    <tr>\n",
       "      <th rowspan=\"3\" valign=\"top\">True</th>\n",
       "      <th>approved</th>\n",
       "      <td>41.506130</td>\n",
       "    </tr>\n",
       "    <tr>\n",
       "      <th>chargeback</th>\n",
       "      <td>2.714536</td>\n",
       "    </tr>\n",
       "    <tr>\n",
       "      <th>declined</th>\n",
       "      <td>55.779335</td>\n",
       "    </tr>\n",
       "  </tbody>\n",
       "</table>\n",
       "</div>"
      ],
      "text/plain": [
       "                       status\n",
       "V1_link status               \n",
       "False   approved    87.351404\n",
       "        chargeback   2.397128\n",
       "        declined    10.251468\n",
       "True    approved    41.506130\n",
       "        chargeback   2.714536\n",
       "        declined    55.779335"
      ]
     },
     "execution_count": 10,
     "metadata": {},
     "output_type": "execute_result"
    }
   ],
   "source": [
    "perc2"
   ]
  },
  {
   "cell_type": "code",
   "execution_count": null,
   "metadata": {
    "collapsed": true
   },
   "outputs": [],
   "source": [
    "perc = df[df['status'].isin('declined','chargeback')].groupby(['V1_link', 'status']).agg({'status_perc': 'sum'})\n",
    "perc2 = perc.groupby(level=0).apply(lambda x: 100 * x / float(x.sum()))\n",
    "perc3 = perc2.add_suffix('_perc').reset_index()\n",
    "perc3[(perc3['status_perc']==100)&(perc3['status'].isin(['declined', 'chargeback']))]"
   ]
  },
  {
   "cell_type": "code",
   "execution_count": 1271,
   "metadata": {
    "collapsed": false
   },
   "outputs": [
    {
     "data": {
      "text/html": [
       "<div>\n",
       "<style scoped>\n",
       "    .dataframe tbody tr th:only-of-type {\n",
       "        vertical-align: middle;\n",
       "    }\n",
       "\n",
       "    .dataframe tbody tr th {\n",
       "        vertical-align: top;\n",
       "    }\n",
       "\n",
       "    .dataframe thead th {\n",
       "        text-align: right;\n",
       "    }\n",
       "</style>\n",
       "<table border=\"1\" class=\"dataframe\">\n",
       "  <thead>\n",
       "    <tr style=\"text-align: right;\">\n",
       "      <th></th>\n",
       "      <th>count</th>\n",
       "      <th>mean</th>\n",
       "      <th>std</th>\n",
       "      <th>min</th>\n",
       "      <th>25%</th>\n",
       "      <th>50%</th>\n",
       "      <th>75%</th>\n",
       "      <th>max</th>\n",
       "    </tr>\n",
       "    <tr>\n",
       "      <th>status</th>\n",
       "      <th></th>\n",
       "      <th></th>\n",
       "      <th></th>\n",
       "      <th></th>\n",
       "      <th></th>\n",
       "      <th></th>\n",
       "      <th></th>\n",
       "      <th></th>\n",
       "    </tr>\n",
       "  </thead>\n",
       "  <tbody>\n",
       "    <tr>\n",
       "      <th>approved</th>\n",
       "      <td>138397.0</td>\n",
       "      <td>1026.969190</td>\n",
       "      <td>2923.363953</td>\n",
       "      <td>0.0</td>\n",
       "      <td>4.0</td>\n",
       "      <td>12.0</td>\n",
       "      <td>102.0</td>\n",
       "      <td>19610.0</td>\n",
       "    </tr>\n",
       "    <tr>\n",
       "      <th>chargeback</th>\n",
       "      <td>3869.0</td>\n",
       "      <td>1182.608684</td>\n",
       "      <td>3096.429041</td>\n",
       "      <td>0.0</td>\n",
       "      <td>5.0</td>\n",
       "      <td>15.0</td>\n",
       "      <td>221.0</td>\n",
       "      <td>18516.0</td>\n",
       "    </tr>\n",
       "    <tr>\n",
       "      <th>declined</th>\n",
       "      <td>15698.0</td>\n",
       "      <td>2496.907695</td>\n",
       "      <td>4039.253429</td>\n",
       "      <td>0.0</td>\n",
       "      <td>9.0</td>\n",
       "      <td>312.0</td>\n",
       "      <td>2793.0</td>\n",
       "      <td>18719.0</td>\n",
       "    </tr>\n",
       "  </tbody>\n",
       "</table>\n",
       "</div>"
      ],
      "text/plain": [
       "               count         mean          std  min  25%    50%     75%  \\\n",
       "status                                                                    \n",
       "approved    138397.0  1026.969190  2923.363953  0.0  4.0   12.0   102.0   \n",
       "chargeback    3869.0  1182.608684  3096.429041  0.0  5.0   15.0   221.0   \n",
       "declined     15698.0  2496.907695  4039.253429  0.0  9.0  312.0  2793.0   \n",
       "\n",
       "                max  \n",
       "status               \n",
       "approved    19610.0  \n",
       "chargeback  18516.0  \n",
       "declined    18719.0  "
      ]
     },
     "execution_count": 1271,
     "metadata": {},
     "output_type": "execute_result"
    }
   ],
   "source": [
    "pd.DataFrame(df.groupby('status')['V2_distance'].describe())"
   ]
  },
  {
   "cell_type": "code",
   "execution_count": 1272,
   "metadata": {
    "collapsed": false
   },
   "outputs": [
    {
     "data": {
      "text/html": [
       "<div>\n",
       "<style scoped>\n",
       "    .dataframe tbody tr th:only-of-type {\n",
       "        vertical-align: middle;\n",
       "    }\n",
       "\n",
       "    .dataframe tbody tr th {\n",
       "        vertical-align: top;\n",
       "    }\n",
       "\n",
       "    .dataframe thead th {\n",
       "        text-align: right;\n",
       "    }\n",
       "</style>\n",
       "<table border=\"1\" class=\"dataframe\">\n",
       "  <thead>\n",
       "    <tr style=\"text-align: right;\">\n",
       "      <th></th>\n",
       "      <th>count</th>\n",
       "      <th>mean</th>\n",
       "      <th>std</th>\n",
       "      <th>min</th>\n",
       "      <th>25%</th>\n",
       "      <th>50%</th>\n",
       "      <th>75%</th>\n",
       "      <th>max</th>\n",
       "    </tr>\n",
       "    <tr>\n",
       "      <th>status</th>\n",
       "      <th></th>\n",
       "      <th></th>\n",
       "      <th></th>\n",
       "      <th></th>\n",
       "      <th></th>\n",
       "      <th></th>\n",
       "      <th></th>\n",
       "      <th></th>\n",
       "    </tr>\n",
       "  </thead>\n",
       "  <tbody>\n",
       "    <tr>\n",
       "      <th>approved</th>\n",
       "      <td>165438.0</td>\n",
       "      <td>653.083143</td>\n",
       "      <td>2143.593742</td>\n",
       "      <td>0.0</td>\n",
       "      <td>0.0</td>\n",
       "      <td>60.0</td>\n",
       "      <td>691.00</td>\n",
       "      <td>730603.0</td>\n",
       "    </tr>\n",
       "    <tr>\n",
       "      <th>chargeback</th>\n",
       "      <td>4558.0</td>\n",
       "      <td>801.660377</td>\n",
       "      <td>1223.094812</td>\n",
       "      <td>0.0</td>\n",
       "      <td>0.0</td>\n",
       "      <td>89.5</td>\n",
       "      <td>1230.75</td>\n",
       "      <td>17158.0</td>\n",
       "    </tr>\n",
       "    <tr>\n",
       "      <th>declined</th>\n",
       "      <td>19997.0</td>\n",
       "      <td>627.429164</td>\n",
       "      <td>1188.732213</td>\n",
       "      <td>0.0</td>\n",
       "      <td>0.0</td>\n",
       "      <td>13.0</td>\n",
       "      <td>571.00</td>\n",
       "      <td>17245.0</td>\n",
       "    </tr>\n",
       "  </tbody>\n",
       "</table>\n",
       "</div>"
      ],
      "text/plain": [
       "               count        mean          std  min  25%   50%      75%  \\\n",
       "status                                                                   \n",
       "approved    165438.0  653.083143  2143.593742  0.0  0.0  60.0   691.00   \n",
       "chargeback    4558.0  801.660377  1223.094812  0.0  0.0  89.5  1230.75   \n",
       "declined     19997.0  627.429164  1188.732213  0.0  0.0  13.0   571.00   \n",
       "\n",
       "                 max  \n",
       "status                \n",
       "approved    730603.0  \n",
       "chargeback   17158.0  \n",
       "declined     17245.0  "
      ]
     },
     "execution_count": 1272,
     "metadata": {},
     "output_type": "execute_result"
    }
   ],
   "source": [
    "pd.DataFrame(df.groupby('status')['V4_our_age'].describe())"
   ]
  },
  {
   "cell_type": "code",
   "execution_count": 126,
   "metadata": {
    "collapsed": false
   },
   "outputs": [
    {
     "data": {
      "text/html": [
       "<div>\n",
       "<style scoped>\n",
       "    .dataframe tbody tr th:only-of-type {\n",
       "        vertical-align: middle;\n",
       "    }\n",
       "\n",
       "    .dataframe tbody tr th {\n",
       "        vertical-align: top;\n",
       "    }\n",
       "\n",
       "    .dataframe thead th {\n",
       "        text-align: right;\n",
       "    }\n",
       "</style>\n",
       "<table border=\"1\" class=\"dataframe\">\n",
       "  <thead>\n",
       "    <tr style=\"text-align: right;\">\n",
       "      <th></th>\n",
       "      <th>count</th>\n",
       "      <th>mean</th>\n",
       "      <th>std</th>\n",
       "      <th>min</th>\n",
       "      <th>25%</th>\n",
       "      <th>50%</th>\n",
       "      <th>75%</th>\n",
       "      <th>max</th>\n",
       "    </tr>\n",
       "    <tr>\n",
       "      <th>status</th>\n",
       "      <th></th>\n",
       "      <th></th>\n",
       "      <th></th>\n",
       "      <th></th>\n",
       "      <th></th>\n",
       "      <th></th>\n",
       "      <th></th>\n",
       "      <th></th>\n",
       "    </tr>\n",
       "  </thead>\n",
       "  <tbody>\n",
       "    <tr>\n",
       "      <th>approved</th>\n",
       "      <td>165438.0</td>\n",
       "      <td>243.197566</td>\n",
       "      <td>7475.619831</td>\n",
       "      <td>-323.0</td>\n",
       "      <td>0.0</td>\n",
       "      <td>1.0</td>\n",
       "      <td>114.0</td>\n",
       "      <td>736666.0</td>\n",
       "    </tr>\n",
       "    <tr>\n",
       "      <th>chargeback</th>\n",
       "      <td>4558.0</td>\n",
       "      <td>59.256033</td>\n",
       "      <td>227.349084</td>\n",
       "      <td>-264.0</td>\n",
       "      <td>0.0</td>\n",
       "      <td>0.0</td>\n",
       "      <td>2.0</td>\n",
       "      <td>3302.0</td>\n",
       "    </tr>\n",
       "    <tr>\n",
       "      <th>declined</th>\n",
       "      <td>19997.0</td>\n",
       "      <td>28.814372</td>\n",
       "      <td>166.581569</td>\n",
       "      <td>-264.0</td>\n",
       "      <td>0.0</td>\n",
       "      <td>1.0</td>\n",
       "      <td>1.0</td>\n",
       "      <td>3238.0</td>\n",
       "    </tr>\n",
       "  </tbody>\n",
       "</table>\n",
       "</div>"
      ],
      "text/plain": [
       "               count        mean          std    min  25%  50%    75%  \\\n",
       "status                                                                  \n",
       "approved    165438.0  243.197566  7475.619831 -323.0  0.0  1.0  114.0   \n",
       "chargeback    4558.0   59.256033   227.349084 -264.0  0.0  0.0    2.0   \n",
       "declined     19997.0   28.814372   166.581569 -264.0  0.0  1.0    1.0   \n",
       "\n",
       "                 max  \n",
       "status                \n",
       "approved    736666.0  \n",
       "chargeback    3302.0  \n",
       "declined      3238.0  "
      ]
     },
     "execution_count": 126,
     "metadata": {},
     "output_type": "execute_result"
    }
   ],
   "source": [
    "pd.DataFrame(df.groupby('status')['V5_merchant_age'].describe())"
   ]
  },
  {
   "cell_type": "code",
   "execution_count": 334,
   "metadata": {
    "collapsed": false
   },
   "outputs": [
    {
     "data": {
      "text/html": [
       "<div>\n",
       "<style scoped>\n",
       "    .dataframe tbody tr th:only-of-type {\n",
       "        vertical-align: middle;\n",
       "    }\n",
       "\n",
       "    .dataframe tbody tr th {\n",
       "        vertical-align: top;\n",
       "    }\n",
       "\n",
       "    .dataframe thead th {\n",
       "        text-align: right;\n",
       "    }\n",
       "</style>\n",
       "<table border=\"1\" class=\"dataframe\">\n",
       "  <thead>\n",
       "    <tr style=\"text-align: right;\">\n",
       "      <th></th>\n",
       "      <th>count</th>\n",
       "      <th>unique</th>\n",
       "      <th>top</th>\n",
       "      <th>freq</th>\n",
       "    </tr>\n",
       "    <tr>\n",
       "      <th>status</th>\n",
       "      <th></th>\n",
       "      <th></th>\n",
       "      <th></th>\n",
       "      <th></th>\n",
       "    </tr>\n",
       "  </thead>\n",
       "  <tbody>\n",
       "    <tr>\n",
       "      <th>approved</th>\n",
       "      <td>165441</td>\n",
       "      <td>2</td>\n",
       "      <td>True</td>\n",
       "      <td>155925</td>\n",
       "    </tr>\n",
       "    <tr>\n",
       "      <th>chargeback</th>\n",
       "      <td>4559</td>\n",
       "      <td>2</td>\n",
       "      <td>True</td>\n",
       "      <td>4357</td>\n",
       "    </tr>\n",
       "    <tr>\n",
       "      <th>declined</th>\n",
       "      <td>20000</td>\n",
       "      <td>2</td>\n",
       "      <td>True</td>\n",
       "      <td>18371</td>\n",
       "    </tr>\n",
       "  </tbody>\n",
       "</table>\n",
       "</div>"
      ],
      "text/plain": [
       "             count unique   top    freq\n",
       "status                                 \n",
       "approved    165441      2  True  155925\n",
       "chargeback    4559      2  True    4357\n",
       "declined     20000      2  True   18371"
      ]
     },
     "execution_count": 334,
     "metadata": {},
     "output_type": "execute_result"
    }
   ],
   "source": [
    "pd.DataFrame(df.groupby('status')['address_difference'].describe())"
   ]
  },
  {
   "cell_type": "code",
   "execution_count": 338,
   "metadata": {
    "collapsed": false
   },
   "outputs": [
    {
     "data": {
      "text/html": [
       "<div>\n",
       "<style scoped>\n",
       "    .dataframe tbody tr th:only-of-type {\n",
       "        vertical-align: middle;\n",
       "    }\n",
       "\n",
       "    .dataframe tbody tr th {\n",
       "        vertical-align: top;\n",
       "    }\n",
       "\n",
       "    .dataframe thead th {\n",
       "        text-align: right;\n",
       "    }\n",
       "</style>\n",
       "<table border=\"1\" class=\"dataframe\">\n",
       "  <thead>\n",
       "    <tr style=\"text-align: right;\">\n",
       "      <th></th>\n",
       "      <th>address_difference</th>\n",
       "      <th>status</th>\n",
       "      <th>status_perc</th>\n",
       "    </tr>\n",
       "  </thead>\n",
       "  <tbody>\n",
       "    <tr>\n",
       "      <th>0</th>\n",
       "      <td>False</td>\n",
       "      <td>approved</td>\n",
       "      <td>83.863576</td>\n",
       "    </tr>\n",
       "    <tr>\n",
       "      <th>1</th>\n",
       "      <td>False</td>\n",
       "      <td>chargeback</td>\n",
       "      <td>1.780206</td>\n",
       "    </tr>\n",
       "    <tr>\n",
       "      <th>2</th>\n",
       "      <td>False</td>\n",
       "      <td>declined</td>\n",
       "      <td>14.356218</td>\n",
       "    </tr>\n",
       "    <tr>\n",
       "      <th>3</th>\n",
       "      <td>True</td>\n",
       "      <td>approved</td>\n",
       "      <td>87.278131</td>\n",
       "    </tr>\n",
       "    <tr>\n",
       "      <th>4</th>\n",
       "      <td>True</td>\n",
       "      <td>chargeback</td>\n",
       "      <td>2.438806</td>\n",
       "    </tr>\n",
       "    <tr>\n",
       "      <th>5</th>\n",
       "      <td>True</td>\n",
       "      <td>declined</td>\n",
       "      <td>10.283063</td>\n",
       "    </tr>\n",
       "  </tbody>\n",
       "</table>\n",
       "</div>"
      ],
      "text/plain": [
       "  address_difference      status  status_perc\n",
       "0              False    approved    83.863576\n",
       "1              False  chargeback     1.780206\n",
       "2              False    declined    14.356218\n",
       "3               True    approved    87.278131\n",
       "4               True  chargeback     2.438806\n",
       "5               True    declined    10.283063"
      ]
     },
     "execution_count": 338,
     "metadata": {},
     "output_type": "execute_result"
    }
   ],
   "source": [
    "perc = df.groupby(['address_difference', 'status']).agg({'status': 'count'})\n",
    "perc2 = perc.groupby(level=0).apply(lambda x: 100 * x / float(x.sum()))\n",
    "perc3 = perc2.add_suffix('_perc').reset_index()\n",
    "perc3"
   ]
  },
  {
   "cell_type": "code",
   "execution_count": 127,
   "metadata": {
    "collapsed": false
   },
   "outputs": [
    {
     "data": {
      "text/html": [
       "<div>\n",
       "<style scoped>\n",
       "    .dataframe tbody tr th:only-of-type {\n",
       "        vertical-align: middle;\n",
       "    }\n",
       "\n",
       "    .dataframe tbody tr th {\n",
       "        vertical-align: top;\n",
       "    }\n",
       "\n",
       "    .dataframe thead th {\n",
       "        text-align: right;\n",
       "    }\n",
       "</style>\n",
       "<table border=\"1\" class=\"dataframe\">\n",
       "  <thead>\n",
       "    <tr style=\"text-align: right;\">\n",
       "      <th></th>\n",
       "      <th>count</th>\n",
       "      <th>unique</th>\n",
       "      <th>top</th>\n",
       "      <th>freq</th>\n",
       "    </tr>\n",
       "    <tr>\n",
       "      <th>status</th>\n",
       "      <th></th>\n",
       "      <th></th>\n",
       "      <th></th>\n",
       "      <th></th>\n",
       "    </tr>\n",
       "  </thead>\n",
       "  <tbody>\n",
       "    <tr>\n",
       "      <th>approved</th>\n",
       "      <td>165438</td>\n",
       "      <td>7</td>\n",
       "      <td>Unsupported</td>\n",
       "      <td>57810</td>\n",
       "    </tr>\n",
       "    <tr>\n",
       "      <th>chargeback</th>\n",
       "      <td>4558</td>\n",
       "      <td>7</td>\n",
       "      <td>Unsupported</td>\n",
       "      <td>2574</td>\n",
       "    </tr>\n",
       "    <tr>\n",
       "      <th>declined</th>\n",
       "      <td>19997</td>\n",
       "      <td>7</td>\n",
       "      <td>Unsupported</td>\n",
       "      <td>8185</td>\n",
       "    </tr>\n",
       "  </tbody>\n",
       "</table>\n",
       "</div>"
      ],
      "text/plain": [
       "             count unique          top   freq\n",
       "status                                       \n",
       "approved    165438      7  Unsupported  57810\n",
       "chargeback    4558      7  Unsupported   2574\n",
       "declined     19997      7  Unsupported   8185"
      ]
     },
     "execution_count": 127,
     "metadata": {},
     "output_type": "execute_result"
    }
   ],
   "source": [
    "pd.DataFrame(df.groupby('status')['V6_avs_result'].describe())"
   ]
  },
  {
   "cell_type": "code",
   "execution_count": 11,
   "metadata": {
    "collapsed": false
   },
   "outputs": [
    {
     "data": {
      "text/html": [
       "<div>\n",
       "<style scoped>\n",
       "    .dataframe tbody tr th:only-of-type {\n",
       "        vertical-align: middle;\n",
       "    }\n",
       "\n",
       "    .dataframe tbody tr th {\n",
       "        vertical-align: top;\n",
       "    }\n",
       "\n",
       "    .dataframe thead th {\n",
       "        text-align: right;\n",
       "    }\n",
       "</style>\n",
       "<table border=\"1\" class=\"dataframe\">\n",
       "  <thead>\n",
       "    <tr style=\"text-align: right;\">\n",
       "      <th></th>\n",
       "      <th>V6_avs_result</th>\n",
       "      <th>status</th>\n",
       "      <th>status_perc</th>\n",
       "    </tr>\n",
       "  </thead>\n",
       "  <tbody>\n",
       "  </tbody>\n",
       "</table>\n",
       "</div>"
      ],
      "text/plain": [
       "Empty DataFrame\n",
       "Columns: [V6_avs_result, status, status_perc]\n",
       "Index: []"
      ]
     },
     "execution_count": 11,
     "metadata": {},
     "output_type": "execute_result"
    }
   ],
   "source": [
    "perc = df.groupby(['V6_avs_result', 'status']).agg({'status': 'count'})\n",
    "perc2 = perc.groupby(level=0).apply(lambda x: 100 * x / float(x.sum()))\n",
    "perc3 = perc2.add_suffix('_perc').reset_index()\n",
    "perc3[(perc3['status_perc']==100)&(perc3['status'].isin(['declined', 'chargeback']))]"
   ]
  },
  {
   "cell_type": "code",
   "execution_count": 12,
   "metadata": {
    "collapsed": false
   },
   "outputs": [
    {
     "data": {
      "text/html": [
       "<div>\n",
       "<style scoped>\n",
       "    .dataframe tbody tr th:only-of-type {\n",
       "        vertical-align: middle;\n",
       "    }\n",
       "\n",
       "    .dataframe tbody tr th {\n",
       "        vertical-align: top;\n",
       "    }\n",
       "\n",
       "    .dataframe thead th {\n",
       "        text-align: right;\n",
       "    }\n",
       "</style>\n",
       "<table border=\"1\" class=\"dataframe\">\n",
       "  <thead>\n",
       "    <tr style=\"text-align: right;\">\n",
       "      <th></th>\n",
       "      <th></th>\n",
       "      <th>status</th>\n",
       "    </tr>\n",
       "    <tr>\n",
       "      <th>V6_avs_result</th>\n",
       "      <th>status</th>\n",
       "      <th></th>\n",
       "    </tr>\n",
       "  </thead>\n",
       "  <tbody>\n",
       "    <tr>\n",
       "      <th rowspan=\"3\" valign=\"top\">Address Match</th>\n",
       "      <th>approved</th>\n",
       "      <td>84.328358</td>\n",
       "    </tr>\n",
       "    <tr>\n",
       "      <th>chargeback</th>\n",
       "      <td>2.985075</td>\n",
       "    </tr>\n",
       "    <tr>\n",
       "      <th>declined</th>\n",
       "      <td>12.686567</td>\n",
       "    </tr>\n",
       "    <tr>\n",
       "      <th rowspan=\"3\" valign=\"top\">Full Match</th>\n",
       "      <th>approved</th>\n",
       "      <td>89.424686</td>\n",
       "    </tr>\n",
       "    <tr>\n",
       "      <th>chargeback</th>\n",
       "      <td>1.398601</td>\n",
       "    </tr>\n",
       "    <tr>\n",
       "      <th>declined</th>\n",
       "      <td>9.176713</td>\n",
       "    </tr>\n",
       "    <tr>\n",
       "      <th rowspan=\"3\" valign=\"top\">Missing</th>\n",
       "      <th>approved</th>\n",
       "      <td>93.606464</td>\n",
       "    </tr>\n",
       "    <tr>\n",
       "      <th>chargeback</th>\n",
       "      <td>1.463709</td>\n",
       "    </tr>\n",
       "    <tr>\n",
       "      <th>declined</th>\n",
       "      <td>4.929827</td>\n",
       "    </tr>\n",
       "    <tr>\n",
       "      <th rowspan=\"3\" valign=\"top\">No Match</th>\n",
       "      <th>approved</th>\n",
       "      <td>54.435878</td>\n",
       "    </tr>\n",
       "    <tr>\n",
       "      <th>chargeback</th>\n",
       "      <td>3.616028</td>\n",
       "    </tr>\n",
       "    <tr>\n",
       "      <th>declined</th>\n",
       "      <td>41.948094</td>\n",
       "    </tr>\n",
       "    <tr>\n",
       "      <th rowspan=\"3\" valign=\"top\">Other</th>\n",
       "      <th>approved</th>\n",
       "      <td>73.638968</td>\n",
       "    </tr>\n",
       "    <tr>\n",
       "      <th>chargeback</th>\n",
       "      <td>2.005731</td>\n",
       "    </tr>\n",
       "    <tr>\n",
       "      <th>declined</th>\n",
       "      <td>24.355301</td>\n",
       "    </tr>\n",
       "    <tr>\n",
       "      <th rowspan=\"3\" valign=\"top\">Unsupported</th>\n",
       "      <th>approved</th>\n",
       "      <td>84.309236</td>\n",
       "    </tr>\n",
       "    <tr>\n",
       "      <th>chargeback</th>\n",
       "      <td>3.753883</td>\n",
       "    </tr>\n",
       "    <tr>\n",
       "      <th>declined</th>\n",
       "      <td>11.936881</td>\n",
       "    </tr>\n",
       "    <tr>\n",
       "      <th rowspan=\"3\" valign=\"top\">Zip Match</th>\n",
       "      <th>approved</th>\n",
       "      <td>90.038846</td>\n",
       "    </tr>\n",
       "    <tr>\n",
       "      <th>chargeback</th>\n",
       "      <td>1.637070</td>\n",
       "    </tr>\n",
       "    <tr>\n",
       "      <th>declined</th>\n",
       "      <td>8.324084</td>\n",
       "    </tr>\n",
       "  </tbody>\n",
       "</table>\n",
       "</div>"
      ],
      "text/plain": [
       "                             status\n",
       "V6_avs_result status               \n",
       "Address Match approved    84.328358\n",
       "              chargeback   2.985075\n",
       "              declined    12.686567\n",
       "Full Match    approved    89.424686\n",
       "              chargeback   1.398601\n",
       "              declined     9.176713\n",
       "Missing       approved    93.606464\n",
       "              chargeback   1.463709\n",
       "              declined     4.929827\n",
       "No Match      approved    54.435878\n",
       "              chargeback   3.616028\n",
       "              declined    41.948094\n",
       "Other         approved    73.638968\n",
       "              chargeback   2.005731\n",
       "              declined    24.355301\n",
       "Unsupported   approved    84.309236\n",
       "              chargeback   3.753883\n",
       "              declined    11.936881\n",
       "Zip Match     approved    90.038846\n",
       "              chargeback   1.637070\n",
       "              declined     8.324084"
      ]
     },
     "execution_count": 12,
     "metadata": {},
     "output_type": "execute_result"
    }
   ],
   "source": [
    "perc2"
   ]
  },
  {
   "cell_type": "code",
   "execution_count": 388,
   "metadata": {
    "collapsed": false
   },
   "outputs": [
    {
     "data": {
      "text/html": [
       "<div>\n",
       "<style scoped>\n",
       "    .dataframe tbody tr th:only-of-type {\n",
       "        vertical-align: middle;\n",
       "    }\n",
       "\n",
       "    .dataframe tbody tr th {\n",
       "        vertical-align: top;\n",
       "    }\n",
       "\n",
       "    .dataframe thead th {\n",
       "        text-align: right;\n",
       "    }\n",
       "</style>\n",
       "<table border=\"1\" class=\"dataframe\">\n",
       "  <thead>\n",
       "    <tr style=\"text-align: right;\">\n",
       "      <th></th>\n",
       "      <th>count</th>\n",
       "      <th>unique</th>\n",
       "      <th>top</th>\n",
       "      <th>freq</th>\n",
       "    </tr>\n",
       "    <tr>\n",
       "      <th>status</th>\n",
       "      <th></th>\n",
       "      <th></th>\n",
       "      <th></th>\n",
       "      <th></th>\n",
       "    </tr>\n",
       "  </thead>\n",
       "  <tbody>\n",
       "    <tr>\n",
       "      <th>approved</th>\n",
       "      <td>165438</td>\n",
       "      <td>4</td>\n",
       "      <td>FL</td>\n",
       "      <td>147755</td>\n",
       "    </tr>\n",
       "    <tr>\n",
       "      <th>chargeback</th>\n",
       "      <td>4558</td>\n",
       "      <td>4</td>\n",
       "      <td>FL</td>\n",
       "      <td>3962</td>\n",
       "    </tr>\n",
       "    <tr>\n",
       "      <th>declined</th>\n",
       "      <td>19997</td>\n",
       "      <td>4</td>\n",
       "      <td>FL</td>\n",
       "      <td>15583</td>\n",
       "    </tr>\n",
       "  </tbody>\n",
       "</table>\n",
       "</div>"
      ],
      "text/plain": [
       "             count unique top    freq\n",
       "status                               \n",
       "approved    165438      4  FL  147755\n",
       "chargeback    4558      4  FL    3962\n",
       "declined     19997      4  FL   15583"
      ]
     },
     "execution_count": 388,
     "metadata": {},
     "output_type": "execute_result"
    }
   ],
   "source": [
    "pd.DataFrame(df.groupby('status')['V7_bill_ship_name_match'].describe())"
   ]
  },
  {
   "cell_type": "code",
   "execution_count": 13,
   "metadata": {
    "collapsed": false
   },
   "outputs": [
    {
     "data": {
      "text/html": [
       "<div>\n",
       "<style scoped>\n",
       "    .dataframe tbody tr th:only-of-type {\n",
       "        vertical-align: middle;\n",
       "    }\n",
       "\n",
       "    .dataframe tbody tr th {\n",
       "        vertical-align: top;\n",
       "    }\n",
       "\n",
       "    .dataframe thead th {\n",
       "        text-align: right;\n",
       "    }\n",
       "</style>\n",
       "<table border=\"1\" class=\"dataframe\">\n",
       "  <thead>\n",
       "    <tr style=\"text-align: right;\">\n",
       "      <th></th>\n",
       "      <th>V7_bill_ship_name_match</th>\n",
       "      <th>status</th>\n",
       "      <th>status_perc</th>\n",
       "    </tr>\n",
       "  </thead>\n",
       "  <tbody>\n",
       "  </tbody>\n",
       "</table>\n",
       "</div>"
      ],
      "text/plain": [
       "Empty DataFrame\n",
       "Columns: [V7_bill_ship_name_match, status, status_perc]\n",
       "Index: []"
      ]
     },
     "execution_count": 13,
     "metadata": {},
     "output_type": "execute_result"
    }
   ],
   "source": [
    "perc = df.groupby(['V7_bill_ship_name_match', 'status']).agg({'status': 'count'})\n",
    "perc2 = perc.groupby(level=0).apply(lambda x: 100 * x / float(x.sum()))\n",
    "perc3 = perc2.add_suffix('_perc').reset_index()\n",
    "perc3[(perc3['status_perc']==100)&(perc3['status'].isin(['declined', 'chargeback']))]"
   ]
  },
  {
   "cell_type": "code",
   "execution_count": 14,
   "metadata": {
    "collapsed": false
   },
   "outputs": [
    {
     "data": {
      "text/html": [
       "<div>\n",
       "<style scoped>\n",
       "    .dataframe tbody tr th:only-of-type {\n",
       "        vertical-align: middle;\n",
       "    }\n",
       "\n",
       "    .dataframe tbody tr th {\n",
       "        vertical-align: top;\n",
       "    }\n",
       "\n",
       "    .dataframe thead th {\n",
       "        text-align: right;\n",
       "    }\n",
       "</style>\n",
       "<table border=\"1\" class=\"dataframe\">\n",
       "  <thead>\n",
       "    <tr style=\"text-align: right;\">\n",
       "      <th></th>\n",
       "      <th></th>\n",
       "      <th>status</th>\n",
       "    </tr>\n",
       "    <tr>\n",
       "      <th>V7_bill_ship_name_match</th>\n",
       "      <th>status</th>\n",
       "      <th></th>\n",
       "    </tr>\n",
       "  </thead>\n",
       "  <tbody>\n",
       "    <tr>\n",
       "      <th rowspan=\"3\" valign=\"top\">F</th>\n",
       "      <th>approved</th>\n",
       "      <td>87.527778</td>\n",
       "    </tr>\n",
       "    <tr>\n",
       "      <th>chargeback</th>\n",
       "      <td>0.944444</td>\n",
       "    </tr>\n",
       "    <tr>\n",
       "      <th>declined</th>\n",
       "      <td>11.527778</td>\n",
       "    </tr>\n",
       "    <tr>\n",
       "      <th rowspan=\"3\" valign=\"top\">FL</th>\n",
       "      <th>approved</th>\n",
       "      <td>88.317394</td>\n",
       "    </tr>\n",
       "    <tr>\n",
       "      <th>chargeback</th>\n",
       "      <td>2.368201</td>\n",
       "    </tr>\n",
       "    <tr>\n",
       "      <th>declined</th>\n",
       "      <td>9.314405</td>\n",
       "    </tr>\n",
       "    <tr>\n",
       "      <th rowspan=\"3\" valign=\"top\">L</th>\n",
       "      <th>approved</th>\n",
       "      <td>83.687390</td>\n",
       "    </tr>\n",
       "    <tr>\n",
       "      <th>chargeback</th>\n",
       "      <td>1.559150</td>\n",
       "    </tr>\n",
       "    <tr>\n",
       "      <th>declined</th>\n",
       "      <td>14.753459</td>\n",
       "    </tr>\n",
       "    <tr>\n",
       "      <th rowspan=\"3\" valign=\"top\">NO_MATCH</th>\n",
       "      <th>approved</th>\n",
       "      <td>73.327603</td>\n",
       "    </tr>\n",
       "    <tr>\n",
       "      <th>chargeback</th>\n",
       "      <td>3.452227</td>\n",
       "    </tr>\n",
       "    <tr>\n",
       "      <th>declined</th>\n",
       "      <td>23.220169</td>\n",
       "    </tr>\n",
       "  </tbody>\n",
       "</table>\n",
       "</div>"
      ],
      "text/plain": [
       "                                       status\n",
       "V7_bill_ship_name_match status               \n",
       "F                       approved    87.527778\n",
       "                        chargeback   0.944444\n",
       "                        declined    11.527778\n",
       "FL                      approved    88.317394\n",
       "                        chargeback   2.368201\n",
       "                        declined     9.314405\n",
       "L                       approved    83.687390\n",
       "                        chargeback   1.559150\n",
       "                        declined    14.753459\n",
       "NO_MATCH                approved    73.327603\n",
       "                        chargeback   3.452227\n",
       "                        declined    23.220169"
      ]
     },
     "execution_count": 14,
     "metadata": {},
     "output_type": "execute_result"
    }
   ],
   "source": [
    "perc2"
   ]
  },
  {
   "cell_type": "code",
   "execution_count": 390,
   "metadata": {
    "collapsed": false
   },
   "outputs": [
    {
     "data": {
      "text/html": [
       "<div>\n",
       "<style scoped>\n",
       "    .dataframe tbody tr th:only-of-type {\n",
       "        vertical-align: middle;\n",
       "    }\n",
       "\n",
       "    .dataframe tbody tr th {\n",
       "        vertical-align: top;\n",
       "    }\n",
       "\n",
       "    .dataframe thead th {\n",
       "        text-align: right;\n",
       "    }\n",
       "</style>\n",
       "<table border=\"1\" class=\"dataframe\">\n",
       "  <thead>\n",
       "    <tr style=\"text-align: right;\">\n",
       "      <th></th>\n",
       "      <th>count</th>\n",
       "      <th>mean</th>\n",
       "      <th>std</th>\n",
       "      <th>min</th>\n",
       "      <th>25%</th>\n",
       "      <th>50%</th>\n",
       "      <th>75%</th>\n",
       "      <th>max</th>\n",
       "    </tr>\n",
       "    <tr>\n",
       "      <th>status</th>\n",
       "      <th></th>\n",
       "      <th></th>\n",
       "      <th></th>\n",
       "      <th></th>\n",
       "      <th></th>\n",
       "      <th></th>\n",
       "      <th></th>\n",
       "      <th></th>\n",
       "    </tr>\n",
       "  </thead>\n",
       "  <tbody>\n",
       "    <tr>\n",
       "      <th>approved</th>\n",
       "      <td>161147.0</td>\n",
       "      <td>0.028921</td>\n",
       "      <td>0.231741</td>\n",
       "      <td>0.0</td>\n",
       "      <td>0.0</td>\n",
       "      <td>0.0</td>\n",
       "      <td>0.0</td>\n",
       "      <td>3.0</td>\n",
       "    </tr>\n",
       "    <tr>\n",
       "      <th>chargeback</th>\n",
       "      <td>4484.0</td>\n",
       "      <td>0.071215</td>\n",
       "      <td>0.366775</td>\n",
       "      <td>0.0</td>\n",
       "      <td>0.0</td>\n",
       "      <td>0.0</td>\n",
       "      <td>0.0</td>\n",
       "      <td>3.0</td>\n",
       "    </tr>\n",
       "    <tr>\n",
       "      <th>declined</th>\n",
       "      <td>19501.0</td>\n",
       "      <td>0.471633</td>\n",
       "      <td>0.880057</td>\n",
       "      <td>0.0</td>\n",
       "      <td>0.0</td>\n",
       "      <td>0.0</td>\n",
       "      <td>0.0</td>\n",
       "      <td>4.0</td>\n",
       "    </tr>\n",
       "  </tbody>\n",
       "</table>\n",
       "</div>"
      ],
      "text/plain": [
       "               count      mean       std  min  25%  50%  75%  max\n",
       "status                                                           \n",
       "approved    161147.0  0.028921  0.231741  0.0  0.0  0.0  0.0  3.0\n",
       "chargeback    4484.0  0.071215  0.366775  0.0  0.0  0.0  0.0  3.0\n",
       "declined     19501.0  0.471633  0.880057  0.0  0.0  0.0  0.0  4.0"
      ]
     },
     "execution_count": 390,
     "metadata": {},
     "output_type": "execute_result"
    }
   ],
   "source": [
    "pd.DataFrame(df.groupby('status')['V8_ip'].describe())"
   ]
  },
  {
   "cell_type": "code",
   "execution_count": 391,
   "metadata": {
    "collapsed": false
   },
   "outputs": [
    {
     "data": {
      "text/html": [
       "<div>\n",
       "<style scoped>\n",
       "    .dataframe tbody tr th:only-of-type {\n",
       "        vertical-align: middle;\n",
       "    }\n",
       "\n",
       "    .dataframe tbody tr th {\n",
       "        vertical-align: top;\n",
       "    }\n",
       "\n",
       "    .dataframe thead th {\n",
       "        text-align: right;\n",
       "    }\n",
       "</style>\n",
       "<table border=\"1\" class=\"dataframe\">\n",
       "  <thead>\n",
       "    <tr style=\"text-align: right;\">\n",
       "      <th></th>\n",
       "      <th>count</th>\n",
       "      <th>mean</th>\n",
       "      <th>std</th>\n",
       "      <th>min</th>\n",
       "      <th>25%</th>\n",
       "      <th>50%</th>\n",
       "      <th>75%</th>\n",
       "      <th>max</th>\n",
       "    </tr>\n",
       "    <tr>\n",
       "      <th>status</th>\n",
       "      <th></th>\n",
       "      <th></th>\n",
       "      <th></th>\n",
       "      <th></th>\n",
       "      <th></th>\n",
       "      <th></th>\n",
       "      <th></th>\n",
       "      <th></th>\n",
       "    </tr>\n",
       "  </thead>\n",
       "  <tbody>\n",
       "    <tr>\n",
       "      <th>approved</th>\n",
       "      <td>165339.0</td>\n",
       "      <td>81.792318</td>\n",
       "      <td>591.266794</td>\n",
       "      <td>0.0</td>\n",
       "      <td>0.0</td>\n",
       "      <td>4.0</td>\n",
       "      <td>19.0</td>\n",
       "      <td>24260.0</td>\n",
       "    </tr>\n",
       "    <tr>\n",
       "      <th>chargeback</th>\n",
       "      <td>4545.0</td>\n",
       "      <td>74.655006</td>\n",
       "      <td>650.973667</td>\n",
       "      <td>0.0</td>\n",
       "      <td>0.0</td>\n",
       "      <td>2.0</td>\n",
       "      <td>11.0</td>\n",
       "      <td>15548.0</td>\n",
       "    </tr>\n",
       "    <tr>\n",
       "      <th>declined</th>\n",
       "      <td>19932.0</td>\n",
       "      <td>87.376480</td>\n",
       "      <td>558.490753</td>\n",
       "      <td>0.0</td>\n",
       "      <td>0.0</td>\n",
       "      <td>2.0</td>\n",
       "      <td>14.0</td>\n",
       "      <td>12608.0</td>\n",
       "    </tr>\n",
       "  </tbody>\n",
       "</table>\n",
       "</div>"
      ],
      "text/plain": [
       "               count       mean         std  min  25%  50%   75%      max\n",
       "status                                                                   \n",
       "approved    165339.0  81.792318  591.266794  0.0  0.0  4.0  19.0  24260.0\n",
       "chargeback    4545.0  74.655006  650.973667  0.0  0.0  2.0  11.0  15548.0\n",
       "declined     19932.0  87.376480  558.490753  0.0  0.0  2.0  14.0  12608.0"
      ]
     },
     "execution_count": 391,
     "metadata": {},
     "output_type": "execute_result"
    }
   ],
   "source": [
    "pd.DataFrame(df.groupby('status')['V9_cookie'].describe())"
   ]
  },
  {
   "cell_type": "code",
   "execution_count": 392,
   "metadata": {
    "collapsed": false
   },
   "outputs": [
    {
     "data": {
      "text/html": [
       "<div>\n",
       "<style scoped>\n",
       "    .dataframe tbody tr th:only-of-type {\n",
       "        vertical-align: middle;\n",
       "    }\n",
       "\n",
       "    .dataframe tbody tr th {\n",
       "        vertical-align: top;\n",
       "    }\n",
       "\n",
       "    .dataframe thead th {\n",
       "        text-align: right;\n",
       "    }\n",
       "</style>\n",
       "<table border=\"1\" class=\"dataframe\">\n",
       "  <thead>\n",
       "    <tr style=\"text-align: right;\">\n",
       "      <th></th>\n",
       "      <th>count</th>\n",
       "      <th>mean</th>\n",
       "      <th>std</th>\n",
       "      <th>min</th>\n",
       "      <th>25%</th>\n",
       "      <th>50%</th>\n",
       "      <th>75%</th>\n",
       "      <th>max</th>\n",
       "    </tr>\n",
       "    <tr>\n",
       "      <th>status</th>\n",
       "      <th></th>\n",
       "      <th></th>\n",
       "      <th></th>\n",
       "      <th></th>\n",
       "      <th></th>\n",
       "      <th></th>\n",
       "      <th></th>\n",
       "      <th></th>\n",
       "    </tr>\n",
       "  </thead>\n",
       "  <tbody>\n",
       "    <tr>\n",
       "      <th>approved</th>\n",
       "      <td>164074.0</td>\n",
       "      <td>4.407578</td>\n",
       "      <td>7.905817</td>\n",
       "      <td>0.0</td>\n",
       "      <td>0.600801</td>\n",
       "      <td>1.411881</td>\n",
       "      <td>3.762988</td>\n",
       "      <td>100.00000</td>\n",
       "    </tr>\n",
       "    <tr>\n",
       "      <th>chargeback</th>\n",
       "      <td>4427.0</td>\n",
       "      <td>13.729512</td>\n",
       "      <td>14.057750</td>\n",
       "      <td>0.0</td>\n",
       "      <td>1.299116</td>\n",
       "      <td>7.992558</td>\n",
       "      <td>29.973034</td>\n",
       "      <td>79.62963</td>\n",
       "    </tr>\n",
       "    <tr>\n",
       "      <th>declined</th>\n",
       "      <td>19647.0</td>\n",
       "      <td>10.902953</td>\n",
       "      <td>13.961234</td>\n",
       "      <td>0.0</td>\n",
       "      <td>1.258951</td>\n",
       "      <td>4.500818</td>\n",
       "      <td>14.384616</td>\n",
       "      <td>100.00000</td>\n",
       "    </tr>\n",
       "  </tbody>\n",
       "</table>\n",
       "</div>"
      ],
      "text/plain": [
       "               count       mean        std  min       25%       50%  \\\n",
       "status                                                                \n",
       "approved    164074.0   4.407578   7.905817  0.0  0.600801  1.411881   \n",
       "chargeback    4427.0  13.729512  14.057750  0.0  1.299116  7.992558   \n",
       "declined     19647.0  10.902953  13.961234  0.0  1.258951  4.500818   \n",
       "\n",
       "                  75%        max  \n",
       "status                            \n",
       "approved     3.762988  100.00000  \n",
       "chargeback  29.973034   79.62963  \n",
       "declined    14.384616  100.00000  "
      ]
     },
     "execution_count": 392,
     "metadata": {},
     "output_type": "execute_result"
    }
   ],
   "source": [
    "pd.DataFrame(df.groupby('status')['V10_cookie'].describe())"
   ]
  },
  {
   "cell_type": "code",
   "execution_count": 393,
   "metadata": {
    "collapsed": false
   },
   "outputs": [
    {
     "data": {
      "text/html": [
       "<div>\n",
       "<style scoped>\n",
       "    .dataframe tbody tr th:only-of-type {\n",
       "        vertical-align: middle;\n",
       "    }\n",
       "\n",
       "    .dataframe tbody tr th {\n",
       "        vertical-align: top;\n",
       "    }\n",
       "\n",
       "    .dataframe thead th {\n",
       "        text-align: right;\n",
       "    }\n",
       "</style>\n",
       "<table border=\"1\" class=\"dataframe\">\n",
       "  <thead>\n",
       "    <tr style=\"text-align: right;\">\n",
       "      <th></th>\n",
       "      <th>count</th>\n",
       "      <th>mean</th>\n",
       "      <th>std</th>\n",
       "      <th>min</th>\n",
       "      <th>25%</th>\n",
       "      <th>50%</th>\n",
       "      <th>75%</th>\n",
       "      <th>max</th>\n",
       "    </tr>\n",
       "    <tr>\n",
       "      <th>status</th>\n",
       "      <th></th>\n",
       "      <th></th>\n",
       "      <th></th>\n",
       "      <th></th>\n",
       "      <th></th>\n",
       "      <th></th>\n",
       "      <th></th>\n",
       "      <th></th>\n",
       "    </tr>\n",
       "  </thead>\n",
       "  <tbody>\n",
       "    <tr>\n",
       "      <th>approved</th>\n",
       "      <td>96987.0</td>\n",
       "      <td>52.028068</td>\n",
       "      <td>120.195771</td>\n",
       "      <td>-140.884769</td>\n",
       "      <td>0.019560</td>\n",
       "      <td>2.536412</td>\n",
       "      <td>43.604342</td>\n",
       "      <td>1181.605035</td>\n",
       "    </tr>\n",
       "    <tr>\n",
       "      <th>chargeback</th>\n",
       "      <td>3372.0</td>\n",
       "      <td>13.169760</td>\n",
       "      <td>48.507363</td>\n",
       "      <td>-1.809178</td>\n",
       "      <td>0.006897</td>\n",
       "      <td>0.015141</td>\n",
       "      <td>1.762564</td>\n",
       "      <td>1075.740822</td>\n",
       "    </tr>\n",
       "    <tr>\n",
       "      <th>declined</th>\n",
       "      <td>10936.0</td>\n",
       "      <td>16.770325</td>\n",
       "      <td>48.135910</td>\n",
       "      <td>-3.473229</td>\n",
       "      <td>0.008576</td>\n",
       "      <td>0.100969</td>\n",
       "      <td>9.216131</td>\n",
       "      <td>791.807373</td>\n",
       "    </tr>\n",
       "  </tbody>\n",
       "</table>\n",
       "</div>"
      ],
      "text/plain": [
       "              count       mean         std         min       25%       50%  \\\n",
       "status                                                                       \n",
       "approved    96987.0  52.028068  120.195771 -140.884769  0.019560  2.536412   \n",
       "chargeback   3372.0  13.169760   48.507363   -1.809178  0.006897  0.015141   \n",
       "declined    10936.0  16.770325   48.135910   -3.473229  0.008576  0.100969   \n",
       "\n",
       "                  75%          max  \n",
       "status                              \n",
       "approved    43.604342  1181.605035  \n",
       "chargeback   1.762564  1075.740822  \n",
       "declined     9.216131   791.807373  "
      ]
     },
     "execution_count": 393,
     "metadata": {},
     "output_type": "execute_result"
    }
   ],
   "source": [
    "pd.DataFrame(df.groupby('status')['V11_cookie'].describe())"
   ]
  },
  {
   "cell_type": "code",
   "execution_count": 394,
   "metadata": {
    "collapsed": false
   },
   "outputs": [
    {
     "data": {
      "text/html": [
       "<div>\n",
       "<style scoped>\n",
       "    .dataframe tbody tr th:only-of-type {\n",
       "        vertical-align: middle;\n",
       "    }\n",
       "\n",
       "    .dataframe tbody tr th {\n",
       "        vertical-align: top;\n",
       "    }\n",
       "\n",
       "    .dataframe thead th {\n",
       "        text-align: right;\n",
       "    }\n",
       "</style>\n",
       "<table border=\"1\" class=\"dataframe\">\n",
       "  <thead>\n",
       "    <tr style=\"text-align: right;\">\n",
       "      <th></th>\n",
       "      <th>count</th>\n",
       "      <th>unique</th>\n",
       "      <th>top</th>\n",
       "      <th>freq</th>\n",
       "    </tr>\n",
       "    <tr>\n",
       "      <th>status</th>\n",
       "      <th></th>\n",
       "      <th></th>\n",
       "      <th></th>\n",
       "      <th></th>\n",
       "    </tr>\n",
       "  </thead>\n",
       "  <tbody>\n",
       "    <tr>\n",
       "      <th>approved</th>\n",
       "      <td>164752</td>\n",
       "      <td>205</td>\n",
       "      <td>US</td>\n",
       "      <td>53558</td>\n",
       "    </tr>\n",
       "    <tr>\n",
       "      <th>chargeback</th>\n",
       "      <td>4552</td>\n",
       "      <td>84</td>\n",
       "      <td>US</td>\n",
       "      <td>1157</td>\n",
       "    </tr>\n",
       "    <tr>\n",
       "      <th>declined</th>\n",
       "      <td>19919</td>\n",
       "      <td>142</td>\n",
       "      <td>US</td>\n",
       "      <td>11185</td>\n",
       "    </tr>\n",
       "  </tbody>\n",
       "</table>\n",
       "</div>"
      ],
      "text/plain": [
       "             count unique top   freq\n",
       "status                              \n",
       "approved    164752    205  US  53558\n",
       "chargeback    4552     84  US   1157\n",
       "declined     19919    142  US  11185"
      ]
     },
     "execution_count": 394,
     "metadata": {},
     "output_type": "execute_result"
    }
   ],
   "source": [
    "pd.DataFrame(df.groupby('status')['billing_country_code'].describe())"
   ]
  },
  {
   "cell_type": "code",
   "execution_count": 15,
   "metadata": {
    "collapsed": false
   },
   "outputs": [
    {
     "data": {
      "text/html": [
       "<div>\n",
       "<style scoped>\n",
       "    .dataframe tbody tr th:only-of-type {\n",
       "        vertical-align: middle;\n",
       "    }\n",
       "\n",
       "    .dataframe tbody tr th {\n",
       "        vertical-align: top;\n",
       "    }\n",
       "\n",
       "    .dataframe thead th {\n",
       "        text-align: right;\n",
       "    }\n",
       "</style>\n",
       "<table border=\"1\" class=\"dataframe\">\n",
       "  <thead>\n",
       "    <tr style=\"text-align: right;\">\n",
       "      <th></th>\n",
       "      <th>billing_country_code</th>\n",
       "      <th>status</th>\n",
       "      <th>status_perc</th>\n",
       "    </tr>\n",
       "  </thead>\n",
       "  <tbody>\n",
       "    <tr>\n",
       "      <th>47</th>\n",
       "      <td>BF</td>\n",
       "      <td>declined</td>\n",
       "      <td>100.0</td>\n",
       "    </tr>\n",
       "    <tr>\n",
       "      <th>142</th>\n",
       "      <td>FX</td>\n",
       "      <td>declined</td>\n",
       "      <td>100.0</td>\n",
       "    </tr>\n",
       "    <tr>\n",
       "      <th>198</th>\n",
       "      <td>IR</td>\n",
       "      <td>declined</td>\n",
       "      <td>100.0</td>\n",
       "    </tr>\n",
       "    <tr>\n",
       "      <th>267</th>\n",
       "      <td>ML</td>\n",
       "      <td>declined</td>\n",
       "      <td>100.0</td>\n",
       "    </tr>\n",
       "    <tr>\n",
       "      <th>383</th>\n",
       "      <td>TN</td>\n",
       "      <td>declined</td>\n",
       "      <td>100.0</td>\n",
       "    </tr>\n",
       "    <tr>\n",
       "      <th>423</th>\n",
       "      <td>XK</td>\n",
       "      <td>declined</td>\n",
       "      <td>100.0</td>\n",
       "    </tr>\n",
       "    <tr>\n",
       "      <th>430</th>\n",
       "      <td>ZW</td>\n",
       "      <td>declined</td>\n",
       "      <td>100.0</td>\n",
       "    </tr>\n",
       "  </tbody>\n",
       "</table>\n",
       "</div>"
      ],
      "text/plain": [
       "    billing_country_code    status  status_perc\n",
       "47                    BF  declined        100.0\n",
       "142                   FX  declined        100.0\n",
       "198                   IR  declined        100.0\n",
       "267                   ML  declined        100.0\n",
       "383                   TN  declined        100.0\n",
       "423                   XK  declined        100.0\n",
       "430                   ZW  declined        100.0"
      ]
     },
     "execution_count": 15,
     "metadata": {},
     "output_type": "execute_result"
    }
   ],
   "source": [
    "perc = df.groupby(['billing_country_code', 'status']).agg({'status': 'count'})\n",
    "perc2 = perc.groupby(level=0).apply(lambda x: 100 * x / float(x.sum()))\n",
    "perc3 = perc2.add_suffix('_perc').reset_index()\n",
    "perc3[(perc3['status_perc']==100)&(perc3['status'].isin(['declined', 'chargeback']))]"
   ]
  },
  {
   "cell_type": "code",
   "execution_count": 20,
   "metadata": {
    "collapsed": false
   },
   "outputs": [
    {
     "data": {
      "text/html": [
       "<div>\n",
       "<style scoped>\n",
       "    .dataframe tbody tr th:only-of-type {\n",
       "        vertical-align: middle;\n",
       "    }\n",
       "\n",
       "    .dataframe tbody tr th {\n",
       "        vertical-align: top;\n",
       "    }\n",
       "\n",
       "    .dataframe thead th {\n",
       "        text-align: right;\n",
       "    }\n",
       "</style>\n",
       "<table border=\"1\" class=\"dataframe\">\n",
       "  <thead>\n",
       "    <tr style=\"text-align: right;\">\n",
       "      <th></th>\n",
       "      <th>status_perc</th>\n",
       "    </tr>\n",
       "    <tr>\n",
       "      <th>billing_country_code</th>\n",
       "      <th></th>\n",
       "    </tr>\n",
       "  </thead>\n",
       "  <tbody>\n",
       "    <tr>\n",
       "      <th>BF</th>\n",
       "      <td>100.0</td>\n",
       "    </tr>\n",
       "    <tr>\n",
       "      <th>DZ</th>\n",
       "      <td>100.0</td>\n",
       "    </tr>\n",
       "    <tr>\n",
       "      <th>FX</th>\n",
       "      <td>100.0</td>\n",
       "    </tr>\n",
       "    <tr>\n",
       "      <th>IR</th>\n",
       "      <td>100.0</td>\n",
       "    </tr>\n",
       "    <tr>\n",
       "      <th>ML</th>\n",
       "      <td>100.0</td>\n",
       "    </tr>\n",
       "    <tr>\n",
       "      <th>TN</th>\n",
       "      <td>100.0</td>\n",
       "    </tr>\n",
       "    <tr>\n",
       "      <th>XK</th>\n",
       "      <td>100.0</td>\n",
       "    </tr>\n",
       "    <tr>\n",
       "      <th>ZW</th>\n",
       "      <td>100.0</td>\n",
       "    </tr>\n",
       "  </tbody>\n",
       "</table>\n",
       "</div>"
      ],
      "text/plain": [
       "                      status_perc\n",
       "billing_country_code             \n",
       "BF                          100.0\n",
       "DZ                          100.0\n",
       "FX                          100.0\n",
       "IR                          100.0\n",
       "ML                          100.0\n",
       "TN                          100.0\n",
       "XK                          100.0\n",
       "ZW                          100.0"
      ]
     },
     "execution_count": 20,
     "metadata": {},
     "output_type": "execute_result"
    }
   ],
   "source": [
    "perc4=perc3[perc3['status'].isin(['declined', 'chargeback'])]\n",
    "perc5=perc4.groupby(['billing_country_code']).agg({'status_perc': 'sum'})\n",
    "perc5[(perc5['status_perc']==100)] "
   ]
  },
  {
   "cell_type": "code",
   "execution_count": 395,
   "metadata": {
    "collapsed": false
   },
   "outputs": [
    {
     "data": {
      "text/html": [
       "<div>\n",
       "<style scoped>\n",
       "    .dataframe tbody tr th:only-of-type {\n",
       "        vertical-align: middle;\n",
       "    }\n",
       "\n",
       "    .dataframe tbody tr th {\n",
       "        vertical-align: top;\n",
       "    }\n",
       "\n",
       "    .dataframe thead th {\n",
       "        text-align: right;\n",
       "    }\n",
       "</style>\n",
       "<table border=\"1\" class=\"dataframe\">\n",
       "  <thead>\n",
       "    <tr style=\"text-align: right;\">\n",
       "      <th></th>\n",
       "      <th>count</th>\n",
       "      <th>unique</th>\n",
       "      <th>top</th>\n",
       "      <th>freq</th>\n",
       "    </tr>\n",
       "    <tr>\n",
       "      <th>status</th>\n",
       "      <th></th>\n",
       "      <th></th>\n",
       "      <th></th>\n",
       "      <th></th>\n",
       "    </tr>\n",
       "  </thead>\n",
       "  <tbody>\n",
       "    <tr>\n",
       "      <th>approved</th>\n",
       "      <td>165268</td>\n",
       "      <td>186</td>\n",
       "      <td>US</td>\n",
       "      <td>58573</td>\n",
       "    </tr>\n",
       "    <tr>\n",
       "      <th>chargeback</th>\n",
       "      <td>4546</td>\n",
       "      <td>76</td>\n",
       "      <td>US</td>\n",
       "      <td>1196</td>\n",
       "    </tr>\n",
       "    <tr>\n",
       "      <th>declined</th>\n",
       "      <td>19907</td>\n",
       "      <td>122</td>\n",
       "      <td>US</td>\n",
       "      <td>11713</td>\n",
       "    </tr>\n",
       "  </tbody>\n",
       "</table>\n",
       "</div>"
      ],
      "text/plain": [
       "             count unique top   freq\n",
       "status                              \n",
       "approved    165268    186  US  58573\n",
       "chargeback    4546     76  US   1196\n",
       "declined     19907    122  US  11713"
      ]
     },
     "execution_count": 395,
     "metadata": {},
     "output_type": "execute_result"
    }
   ],
   "source": [
    "pd.DataFrame(df.groupby('status')['shipping_country_code'].describe())"
   ]
  },
  {
   "cell_type": "code",
   "execution_count": 22,
   "metadata": {
    "collapsed": false
   },
   "outputs": [
    {
     "data": {
      "text/html": [
       "<div>\n",
       "<style scoped>\n",
       "    .dataframe tbody tr th:only-of-type {\n",
       "        vertical-align: middle;\n",
       "    }\n",
       "\n",
       "    .dataframe tbody tr th {\n",
       "        vertical-align: top;\n",
       "    }\n",
       "\n",
       "    .dataframe thead th {\n",
       "        text-align: right;\n",
       "    }\n",
       "</style>\n",
       "<table border=\"1\" class=\"dataframe\">\n",
       "  <thead>\n",
       "    <tr style=\"text-align: right;\">\n",
       "      <th></th>\n",
       "      <th>shipping_country_code</th>\n",
       "      <th>status</th>\n",
       "      <th>status_perc</th>\n",
       "    </tr>\n",
       "  </thead>\n",
       "  <tbody>\n",
       "    <tr>\n",
       "      <th>73</th>\n",
       "      <td>CM</td>\n",
       "      <td>declined</td>\n",
       "      <td>100.0</td>\n",
       "    </tr>\n",
       "    <tr>\n",
       "      <th>119</th>\n",
       "      <td>FX</td>\n",
       "      <td>declined</td>\n",
       "      <td>100.0</td>\n",
       "    </tr>\n",
       "    <tr>\n",
       "      <th>147</th>\n",
       "      <td>HN</td>\n",
       "      <td>declined</td>\n",
       "      <td>100.0</td>\n",
       "    </tr>\n",
       "    <tr>\n",
       "      <th>168</th>\n",
       "      <td>IQ</td>\n",
       "      <td>declined</td>\n",
       "      <td>100.0</td>\n",
       "    </tr>\n",
       "    <tr>\n",
       "      <th>290</th>\n",
       "      <td>PM</td>\n",
       "      <td>declined</td>\n",
       "      <td>100.0</td>\n",
       "    </tr>\n",
       "    <tr>\n",
       "      <th>340</th>\n",
       "      <td>TN</td>\n",
       "      <td>declined</td>\n",
       "      <td>100.0</td>\n",
       "    </tr>\n",
       "    <tr>\n",
       "      <th>377</th>\n",
       "      <td>XK</td>\n",
       "      <td>declined</td>\n",
       "      <td>100.0</td>\n",
       "    </tr>\n",
       "    <tr>\n",
       "      <th>383</th>\n",
       "      <td>ZW</td>\n",
       "      <td>declined</td>\n",
       "      <td>100.0</td>\n",
       "    </tr>\n",
       "  </tbody>\n",
       "</table>\n",
       "</div>"
      ],
      "text/plain": [
       "    shipping_country_code    status  status_perc\n",
       "73                     CM  declined        100.0\n",
       "119                    FX  declined        100.0\n",
       "147                    HN  declined        100.0\n",
       "168                    IQ  declined        100.0\n",
       "290                    PM  declined        100.0\n",
       "340                    TN  declined        100.0\n",
       "377                    XK  declined        100.0\n",
       "383                    ZW  declined        100.0"
      ]
     },
     "execution_count": 22,
     "metadata": {},
     "output_type": "execute_result"
    }
   ],
   "source": [
    "perc = df.groupby(['shipping_country_code', 'status']).agg({'status': 'count'})\n",
    "perc2 = perc.groupby(level=0).apply(lambda x: 100 * x / float(x.sum()))\n",
    "perc3 = perc2.add_suffix('_perc').reset_index()\n",
    "perc3[(perc3['status_perc']==100)&(perc3['status'].isin(['declined', 'chargeback']))]"
   ]
  },
  {
   "cell_type": "code",
   "execution_count": 23,
   "metadata": {
    "collapsed": false
   },
   "outputs": [
    {
     "data": {
      "text/html": [
       "<div>\n",
       "<style scoped>\n",
       "    .dataframe tbody tr th:only-of-type {\n",
       "        vertical-align: middle;\n",
       "    }\n",
       "\n",
       "    .dataframe tbody tr th {\n",
       "        vertical-align: top;\n",
       "    }\n",
       "\n",
       "    .dataframe thead th {\n",
       "        text-align: right;\n",
       "    }\n",
       "</style>\n",
       "<table border=\"1\" class=\"dataframe\">\n",
       "  <thead>\n",
       "    <tr style=\"text-align: right;\">\n",
       "      <th></th>\n",
       "      <th>status_perc</th>\n",
       "    </tr>\n",
       "    <tr>\n",
       "      <th>shipping_country_code</th>\n",
       "      <th></th>\n",
       "    </tr>\n",
       "  </thead>\n",
       "  <tbody>\n",
       "    <tr>\n",
       "      <th>CM</th>\n",
       "      <td>100.0</td>\n",
       "    </tr>\n",
       "    <tr>\n",
       "      <th>DZ</th>\n",
       "      <td>100.0</td>\n",
       "    </tr>\n",
       "    <tr>\n",
       "      <th>FX</th>\n",
       "      <td>100.0</td>\n",
       "    </tr>\n",
       "    <tr>\n",
       "      <th>HN</th>\n",
       "      <td>100.0</td>\n",
       "    </tr>\n",
       "    <tr>\n",
       "      <th>IQ</th>\n",
       "      <td>100.0</td>\n",
       "    </tr>\n",
       "    <tr>\n",
       "      <th>PM</th>\n",
       "      <td>100.0</td>\n",
       "    </tr>\n",
       "    <tr>\n",
       "      <th>TN</th>\n",
       "      <td>100.0</td>\n",
       "    </tr>\n",
       "    <tr>\n",
       "      <th>XK</th>\n",
       "      <td>100.0</td>\n",
       "    </tr>\n",
       "    <tr>\n",
       "      <th>ZW</th>\n",
       "      <td>100.0</td>\n",
       "    </tr>\n",
       "  </tbody>\n",
       "</table>\n",
       "</div>"
      ],
      "text/plain": [
       "                       status_perc\n",
       "shipping_country_code             \n",
       "CM                           100.0\n",
       "DZ                           100.0\n",
       "FX                           100.0\n",
       "HN                           100.0\n",
       "IQ                           100.0\n",
       "PM                           100.0\n",
       "TN                           100.0\n",
       "XK                           100.0\n",
       "ZW                           100.0"
      ]
     },
     "execution_count": 23,
     "metadata": {},
     "output_type": "execute_result"
    }
   ],
   "source": [
    "perc4=perc3[perc3['status'].isin(['declined', 'chargeback'])]\n",
    "perc5=perc4.groupby(['shipping_country_code']).agg({'status_perc': 'sum'})\n",
    "perc5[(perc5['status_perc']==100)] "
   ]
  },
  {
   "cell_type": "code",
   "execution_count": 314,
   "metadata": {
    "collapsed": false
   },
   "outputs": [
    {
     "data": {
      "text/html": [
       "<div>\n",
       "<style scoped>\n",
       "    .dataframe tbody tr th:only-of-type {\n",
       "        vertical-align: middle;\n",
       "    }\n",
       "\n",
       "    .dataframe tbody tr th {\n",
       "        vertical-align: top;\n",
       "    }\n",
       "\n",
       "    .dataframe thead th {\n",
       "        text-align: right;\n",
       "    }\n",
       "</style>\n",
       "<table border=\"1\" class=\"dataframe\">\n",
       "  <thead>\n",
       "    <tr style=\"text-align: right;\">\n",
       "      <th></th>\n",
       "      <th>count</th>\n",
       "      <th>unique</th>\n",
       "      <th>top</th>\n",
       "      <th>freq</th>\n",
       "    </tr>\n",
       "    <tr>\n",
       "      <th>status</th>\n",
       "      <th></th>\n",
       "      <th></th>\n",
       "      <th></th>\n",
       "      <th></th>\n",
       "    </tr>\n",
       "  </thead>\n",
       "  <tbody>\n",
       "    <tr>\n",
       "      <th>approved</th>\n",
       "      <td>162230</td>\n",
       "      <td>2079</td>\n",
       "      <td>value_1645</td>\n",
       "      <td>20640</td>\n",
       "    </tr>\n",
       "    <tr>\n",
       "      <th>chargeback</th>\n",
       "      <td>3781</td>\n",
       "      <td>310</td>\n",
       "      <td>value_291</td>\n",
       "      <td>448</td>\n",
       "    </tr>\n",
       "    <tr>\n",
       "      <th>declined</th>\n",
       "      <td>19450</td>\n",
       "      <td>1033</td>\n",
       "      <td>value_1059</td>\n",
       "      <td>5289</td>\n",
       "    </tr>\n",
       "  </tbody>\n",
       "</table>\n",
       "</div>"
      ],
      "text/plain": [
       "             count unique         top   freq\n",
       "status                                      \n",
       "approved    162230   2079  value_1645  20640\n",
       "chargeback    3781    310   value_291    448\n",
       "declined     19450   1033  value_1059   5289"
      ]
     },
     "execution_count": 314,
     "metadata": {},
     "output_type": "execute_result"
    }
   ],
   "source": [
    "pd.DataFrame(df.groupby('status')['shipping_method'].describe())"
   ]
  },
  {
   "cell_type": "code",
   "execution_count": 318,
   "metadata": {
    "collapsed": false
   },
   "outputs": [],
   "source": [
    "perc = df.groupby(['shipping_method', 'status']).agg({'status': 'count'})\n",
    "perc2 = perc.groupby(level=0).apply(lambda x: 100 * x / float(x.sum()))\n",
    "perc3 = perc2.add_suffix('_perc').reset_index()\n",
    "full_dec_charged=perc3[(perc3['status_perc']==100)&(perc3['status'].isin(['declined', 'chargeback']))]"
   ]
  },
  {
   "cell_type": "code",
   "execution_count": 322,
   "metadata": {
    "collapsed": false
   },
   "outputs": [
    {
     "data": {
      "text/html": [
       "<div>\n",
       "<style scoped>\n",
       "    .dataframe tbody tr th:only-of-type {\n",
       "        vertical-align: middle;\n",
       "    }\n",
       "\n",
       "    .dataframe tbody tr th {\n",
       "        vertical-align: top;\n",
       "    }\n",
       "\n",
       "    .dataframe thead th {\n",
       "        text-align: right;\n",
       "    }\n",
       "</style>\n",
       "<table border=\"1\" class=\"dataframe\">\n",
       "  <thead>\n",
       "    <tr style=\"text-align: right;\">\n",
       "      <th></th>\n",
       "      <th>shipping_method</th>\n",
       "      <th>status_perc</th>\n",
       "    </tr>\n",
       "  </thead>\n",
       "  <tbody>\n",
       "    <tr>\n",
       "      <th>166</th>\n",
       "      <td>value_1294</td>\n",
       "      <td>100.0</td>\n",
       "    </tr>\n",
       "    <tr>\n",
       "      <th>221</th>\n",
       "      <td>value_1414</td>\n",
       "      <td>100.0</td>\n",
       "    </tr>\n",
       "    <tr>\n",
       "      <th>324</th>\n",
       "      <td>value_1589</td>\n",
       "      <td>100.0</td>\n",
       "    </tr>\n",
       "    <tr>\n",
       "      <th>568</th>\n",
       "      <td>value_2118</td>\n",
       "      <td>100.0</td>\n",
       "    </tr>\n",
       "    <tr>\n",
       "      <th>581</th>\n",
       "      <td>value_2134</td>\n",
       "      <td>100.0</td>\n",
       "    </tr>\n",
       "    <tr>\n",
       "      <th>599</th>\n",
       "      <td>value_2173</td>\n",
       "      <td>100.0</td>\n",
       "    </tr>\n",
       "    <tr>\n",
       "      <th>706</th>\n",
       "      <td>value_25</td>\n",
       "      <td>100.0</td>\n",
       "    </tr>\n",
       "    <tr>\n",
       "      <th>805</th>\n",
       "      <td>value_456</td>\n",
       "      <td>100.0</td>\n",
       "    </tr>\n",
       "    <tr>\n",
       "      <th>868</th>\n",
       "      <td>value_569</td>\n",
       "      <td>100.0</td>\n",
       "    </tr>\n",
       "    <tr>\n",
       "      <th>1019</th>\n",
       "      <td>value_844</td>\n",
       "      <td>100.0</td>\n",
       "    </tr>\n",
       "  </tbody>\n",
       "</table>\n",
       "</div>"
      ],
      "text/plain": [
       "     shipping_method  status_perc\n",
       "166       value_1294        100.0\n",
       "221       value_1414        100.0\n",
       "324       value_1589        100.0\n",
       "568       value_2118        100.0\n",
       "581       value_2134        100.0\n",
       "599       value_2173        100.0\n",
       "706         value_25        100.0\n",
       "805        value_456        100.0\n",
       "868        value_569        100.0\n",
       "1019       value_844        100.0"
      ]
     },
     "execution_count": 322,
     "metadata": {},
     "output_type": "execute_result"
    }
   ],
   "source": [
    "perc4=perc3[perc3['status'].isin(['declined', 'chargeback'])]\n",
    "perc5=perc4.groupby(['shipping_method']).agg({'status_perc': 'sum'})\n",
    "perc5 = perc5.reset_index()\n",
    "frauds=perc5[(perc5['status_perc']==100)]\n",
    "\n",
    "cut = pd.merge(frauds, full_dec_charged, how='inner', on=\"shipping_method\")\n",
    "frauds[(~frauds['shipping_method'].isin(cut['shipping_method']))]"
   ]
  },
  {
   "cell_type": "code",
   "execution_count": 456,
   "metadata": {
    "collapsed": false
   },
   "outputs": [
    {
     "data": {
      "text/html": [
       "<div>\n",
       "<style scoped>\n",
       "    .dataframe tbody tr th:only-of-type {\n",
       "        vertical-align: middle;\n",
       "    }\n",
       "\n",
       "    .dataframe tbody tr th {\n",
       "        vertical-align: top;\n",
       "    }\n",
       "\n",
       "    .dataframe thead th {\n",
       "        text-align: right;\n",
       "    }\n",
       "</style>\n",
       "<table border=\"1\" class=\"dataframe\">\n",
       "  <thead>\n",
       "    <tr style=\"text-align: right;\">\n",
       "      <th></th>\n",
       "      <th>count</th>\n",
       "      <th>unique</th>\n",
       "      <th>top</th>\n",
       "      <th>freq</th>\n",
       "    </tr>\n",
       "    <tr>\n",
       "      <th>status</th>\n",
       "      <th></th>\n",
       "      <th></th>\n",
       "      <th></th>\n",
       "      <th></th>\n",
       "    </tr>\n",
       "  </thead>\n",
       "  <tbody>\n",
       "    <tr>\n",
       "      <th>approved</th>\n",
       "      <td>165441</td>\n",
       "      <td>34</td>\n",
       "      <td>USD</td>\n",
       "      <td>106959</td>\n",
       "    </tr>\n",
       "    <tr>\n",
       "      <th>chargeback</th>\n",
       "      <td>4559</td>\n",
       "      <td>27</td>\n",
       "      <td>USD</td>\n",
       "      <td>2234</td>\n",
       "    </tr>\n",
       "    <tr>\n",
       "      <th>declined</th>\n",
       "      <td>20000</td>\n",
       "      <td>33</td>\n",
       "      <td>USD</td>\n",
       "      <td>15488</td>\n",
       "    </tr>\n",
       "  </tbody>\n",
       "</table>\n",
       "</div>"
      ],
      "text/plain": [
       "             count unique  top    freq\n",
       "status                                \n",
       "approved    165441     34  USD  106959\n",
       "chargeback    4559     27  USD    2234\n",
       "declined     20000     33  USD   15488"
      ]
     },
     "execution_count": 456,
     "metadata": {},
     "output_type": "execute_result"
    }
   ],
   "source": [
    "pd.DataFrame(df.groupby('status')['currency_code'].describe())"
   ]
  },
  {
   "cell_type": "code",
   "execution_count": 26,
   "metadata": {
    "collapsed": false
   },
   "outputs": [
    {
     "data": {
      "text/html": [
       "<div>\n",
       "<style scoped>\n",
       "    .dataframe tbody tr th:only-of-type {\n",
       "        vertical-align: middle;\n",
       "    }\n",
       "\n",
       "    .dataframe tbody tr th {\n",
       "        vertical-align: top;\n",
       "    }\n",
       "\n",
       "    .dataframe thead th {\n",
       "        text-align: right;\n",
       "    }\n",
       "</style>\n",
       "<table border=\"1\" class=\"dataframe\">\n",
       "  <thead>\n",
       "    <tr style=\"text-align: right;\">\n",
       "      <th></th>\n",
       "      <th>currency_code</th>\n",
       "      <th>status</th>\n",
       "      <th>status_perc</th>\n",
       "    </tr>\n",
       "  </thead>\n",
       "  <tbody>\n",
       "    <tr>\n",
       "      <th>47</th>\n",
       "      <td>KES</td>\n",
       "      <td>declined</td>\n",
       "      <td>100.0</td>\n",
       "    </tr>\n",
       "  </tbody>\n",
       "</table>\n",
       "</div>"
      ],
      "text/plain": [
       "   currency_code    status  status_perc\n",
       "47           KES  declined        100.0"
      ]
     },
     "execution_count": 26,
     "metadata": {},
     "output_type": "execute_result"
    }
   ],
   "source": [
    "perc = df.groupby(['currency_code', 'status']).agg({'status': 'count'})\n",
    "perc2 = perc.groupby(level=0).apply(lambda x: 100 * x / float(x.sum()))\n",
    "perc3 = perc2.add_suffix('_perc').reset_index()\n",
    "perc3[(perc3['status_perc']==100)&(perc3['status'].isin(['declined', 'chargeback']))]"
   ]
  },
  {
   "cell_type": "code",
   "execution_count": 27,
   "metadata": {
    "collapsed": false
   },
   "outputs": [
    {
     "data": {
      "text/html": [
       "<div>\n",
       "<style scoped>\n",
       "    .dataframe tbody tr th:only-of-type {\n",
       "        vertical-align: middle;\n",
       "    }\n",
       "\n",
       "    .dataframe tbody tr th {\n",
       "        vertical-align: top;\n",
       "    }\n",
       "\n",
       "    .dataframe thead th {\n",
       "        text-align: right;\n",
       "    }\n",
       "</style>\n",
       "<table border=\"1\" class=\"dataframe\">\n",
       "  <thead>\n",
       "    <tr style=\"text-align: right;\">\n",
       "      <th></th>\n",
       "      <th>status_perc</th>\n",
       "    </tr>\n",
       "    <tr>\n",
       "      <th>currency_code</th>\n",
       "      <th></th>\n",
       "    </tr>\n",
       "  </thead>\n",
       "  <tbody>\n",
       "    <tr>\n",
       "      <th>KES</th>\n",
       "      <td>100.0</td>\n",
       "    </tr>\n",
       "  </tbody>\n",
       "</table>\n",
       "</div>"
      ],
      "text/plain": [
       "               status_perc\n",
       "currency_code             \n",
       "KES                  100.0"
      ]
     },
     "execution_count": 27,
     "metadata": {},
     "output_type": "execute_result"
    }
   ],
   "source": [
    "perc4=perc3[perc3['status'].isin(['declined', 'chargeback'])]\n",
    "perc5=perc4.groupby(['currency_code']).agg({'status_perc': 'sum'})\n",
    "perc5[(perc5['status_perc']==100)] "
   ]
  },
  {
   "cell_type": "code",
   "execution_count": 30,
   "metadata": {
    "collapsed": false
   },
   "outputs": [
    {
     "data": {
      "text/html": [
       "<div>\n",
       "<style scoped>\n",
       "    .dataframe tbody tr th:only-of-type {\n",
       "        vertical-align: middle;\n",
       "    }\n",
       "\n",
       "    .dataframe tbody tr th {\n",
       "        vertical-align: top;\n",
       "    }\n",
       "\n",
       "    .dataframe thead th {\n",
       "        text-align: right;\n",
       "    }\n",
       "</style>\n",
       "<table border=\"1\" class=\"dataframe\">\n",
       "  <thead>\n",
       "    <tr style=\"text-align: right;\">\n",
       "      <th></th>\n",
       "      <th>gateway</th>\n",
       "      <th>status</th>\n",
       "      <th>status_perc</th>\n",
       "    </tr>\n",
       "  </thead>\n",
       "  <tbody>\n",
       "    <tr>\n",
       "      <th>21</th>\n",
       "      <td>value_106</td>\n",
       "      <td>declined</td>\n",
       "      <td>100.0</td>\n",
       "    </tr>\n",
       "    <tr>\n",
       "      <th>80</th>\n",
       "      <td>value_134</td>\n",
       "      <td>declined</td>\n",
       "      <td>100.0</td>\n",
       "    </tr>\n",
       "    <tr>\n",
       "      <th>97</th>\n",
       "      <td>value_141</td>\n",
       "      <td>declined</td>\n",
       "      <td>100.0</td>\n",
       "    </tr>\n",
       "    <tr>\n",
       "      <th>107</th>\n",
       "      <td>value_146</td>\n",
       "      <td>declined</td>\n",
       "      <td>100.0</td>\n",
       "    </tr>\n",
       "    <tr>\n",
       "      <th>108</th>\n",
       "      <td>value_147</td>\n",
       "      <td>declined</td>\n",
       "      <td>100.0</td>\n",
       "    </tr>\n",
       "    <tr>\n",
       "      <th>131</th>\n",
       "      <td>value_156</td>\n",
       "      <td>declined</td>\n",
       "      <td>100.0</td>\n",
       "    </tr>\n",
       "    <tr>\n",
       "      <th>135</th>\n",
       "      <td>value_159</td>\n",
       "      <td>declined</td>\n",
       "      <td>100.0</td>\n",
       "    </tr>\n",
       "    <tr>\n",
       "      <th>150</th>\n",
       "      <td>value_165</td>\n",
       "      <td>declined</td>\n",
       "      <td>100.0</td>\n",
       "    </tr>\n",
       "    <tr>\n",
       "      <th>207</th>\n",
       "      <td>value_188</td>\n",
       "      <td>declined</td>\n",
       "      <td>100.0</td>\n",
       "    </tr>\n",
       "    <tr>\n",
       "      <th>229</th>\n",
       "      <td>value_199</td>\n",
       "      <td>declined</td>\n",
       "      <td>100.0</td>\n",
       "    </tr>\n",
       "    <tr>\n",
       "      <th>250</th>\n",
       "      <td>value_207</td>\n",
       "      <td>declined</td>\n",
       "      <td>100.0</td>\n",
       "    </tr>\n",
       "    <tr>\n",
       "      <th>277</th>\n",
       "      <td>value_228</td>\n",
       "      <td>declined</td>\n",
       "      <td>100.0</td>\n",
       "    </tr>\n",
       "    <tr>\n",
       "      <th>289</th>\n",
       "      <td>value_238</td>\n",
       "      <td>declined</td>\n",
       "      <td>100.0</td>\n",
       "    </tr>\n",
       "    <tr>\n",
       "      <th>331</th>\n",
       "      <td>value_26</td>\n",
       "      <td>declined</td>\n",
       "      <td>100.0</td>\n",
       "    </tr>\n",
       "    <tr>\n",
       "      <th>340</th>\n",
       "      <td>value_32</td>\n",
       "      <td>chargeback</td>\n",
       "      <td>100.0</td>\n",
       "    </tr>\n",
       "    <tr>\n",
       "      <th>360</th>\n",
       "      <td>value_41</td>\n",
       "      <td>declined</td>\n",
       "      <td>100.0</td>\n",
       "    </tr>\n",
       "    <tr>\n",
       "      <th>417</th>\n",
       "      <td>value_67</td>\n",
       "      <td>declined</td>\n",
       "      <td>100.0</td>\n",
       "    </tr>\n",
       "    <tr>\n",
       "      <th>419</th>\n",
       "      <td>value_69</td>\n",
       "      <td>declined</td>\n",
       "      <td>100.0</td>\n",
       "    </tr>\n",
       "    <tr>\n",
       "      <th>471</th>\n",
       "      <td>value_91</td>\n",
       "      <td>declined</td>\n",
       "      <td>100.0</td>\n",
       "    </tr>\n",
       "    <tr>\n",
       "      <th>472</th>\n",
       "      <td>value_92</td>\n",
       "      <td>declined</td>\n",
       "      <td>100.0</td>\n",
       "    </tr>\n",
       "    <tr>\n",
       "      <th>473</th>\n",
       "      <td>value_93</td>\n",
       "      <td>declined</td>\n",
       "      <td>100.0</td>\n",
       "    </tr>\n",
       "  </tbody>\n",
       "</table>\n",
       "</div>"
      ],
      "text/plain": [
       "       gateway      status  status_perc\n",
       "21   value_106    declined        100.0\n",
       "80   value_134    declined        100.0\n",
       "97   value_141    declined        100.0\n",
       "107  value_146    declined        100.0\n",
       "108  value_147    declined        100.0\n",
       "131  value_156    declined        100.0\n",
       "135  value_159    declined        100.0\n",
       "150  value_165    declined        100.0\n",
       "207  value_188    declined        100.0\n",
       "229  value_199    declined        100.0\n",
       "250  value_207    declined        100.0\n",
       "277  value_228    declined        100.0\n",
       "289  value_238    declined        100.0\n",
       "331   value_26    declined        100.0\n",
       "340   value_32  chargeback        100.0\n",
       "360   value_41    declined        100.0\n",
       "417   value_67    declined        100.0\n",
       "419   value_69    declined        100.0\n",
       "471   value_91    declined        100.0\n",
       "472   value_92    declined        100.0\n",
       "473   value_93    declined        100.0"
      ]
     },
     "execution_count": 30,
     "metadata": {},
     "output_type": "execute_result"
    }
   ],
   "source": [
    "perc = df.groupby(['gateway', 'status']).agg({'status': 'count'})\n",
    "perc2 = perc.groupby(level=0).apply(lambda x: 100 * x / float(x.sum()))\n",
    "perc3 = perc2.add_suffix('_perc').reset_index()\n",
    "perc3[(perc3['status_perc']==100)&(perc3['status'].isin(['declined', 'chargeback']))]"
   ]
  },
  {
   "cell_type": "code",
   "execution_count": 29,
   "metadata": {
    "collapsed": false
   },
   "outputs": [
    {
     "data": {
      "text/html": [
       "<div>\n",
       "<style scoped>\n",
       "    .dataframe tbody tr th:only-of-type {\n",
       "        vertical-align: middle;\n",
       "    }\n",
       "\n",
       "    .dataframe tbody tr th {\n",
       "        vertical-align: top;\n",
       "    }\n",
       "\n",
       "    .dataframe thead th {\n",
       "        text-align: right;\n",
       "    }\n",
       "</style>\n",
       "<table border=\"1\" class=\"dataframe\">\n",
       "  <thead>\n",
       "    <tr style=\"text-align: right;\">\n",
       "      <th></th>\n",
       "      <th>status_perc</th>\n",
       "    </tr>\n",
       "    <tr>\n",
       "      <th>gateway</th>\n",
       "      <th></th>\n",
       "    </tr>\n",
       "  </thead>\n",
       "  <tbody>\n",
       "    <tr>\n",
       "      <th>value_106</th>\n",
       "      <td>100.0</td>\n",
       "    </tr>\n",
       "    <tr>\n",
       "      <th>value_134</th>\n",
       "      <td>100.0</td>\n",
       "    </tr>\n",
       "    <tr>\n",
       "      <th>value_141</th>\n",
       "      <td>100.0</td>\n",
       "    </tr>\n",
       "    <tr>\n",
       "      <th>value_146</th>\n",
       "      <td>100.0</td>\n",
       "    </tr>\n",
       "    <tr>\n",
       "      <th>value_147</th>\n",
       "      <td>100.0</td>\n",
       "    </tr>\n",
       "    <tr>\n",
       "      <th>value_156</th>\n",
       "      <td>100.0</td>\n",
       "    </tr>\n",
       "    <tr>\n",
       "      <th>value_159</th>\n",
       "      <td>100.0</td>\n",
       "    </tr>\n",
       "    <tr>\n",
       "      <th>value_165</th>\n",
       "      <td>100.0</td>\n",
       "    </tr>\n",
       "    <tr>\n",
       "      <th>value_188</th>\n",
       "      <td>100.0</td>\n",
       "    </tr>\n",
       "    <tr>\n",
       "      <th>value_199</th>\n",
       "      <td>100.0</td>\n",
       "    </tr>\n",
       "    <tr>\n",
       "      <th>value_207</th>\n",
       "      <td>100.0</td>\n",
       "    </tr>\n",
       "    <tr>\n",
       "      <th>value_228</th>\n",
       "      <td>100.0</td>\n",
       "    </tr>\n",
       "    <tr>\n",
       "      <th>value_238</th>\n",
       "      <td>100.0</td>\n",
       "    </tr>\n",
       "    <tr>\n",
       "      <th>value_26</th>\n",
       "      <td>100.0</td>\n",
       "    </tr>\n",
       "    <tr>\n",
       "      <th>value_32</th>\n",
       "      <td>100.0</td>\n",
       "    </tr>\n",
       "    <tr>\n",
       "      <th>value_41</th>\n",
       "      <td>100.0</td>\n",
       "    </tr>\n",
       "    <tr>\n",
       "      <th>value_64</th>\n",
       "      <td>100.0</td>\n",
       "    </tr>\n",
       "    <tr>\n",
       "      <th>value_67</th>\n",
       "      <td>100.0</td>\n",
       "    </tr>\n",
       "    <tr>\n",
       "      <th>value_69</th>\n",
       "      <td>100.0</td>\n",
       "    </tr>\n",
       "    <tr>\n",
       "      <th>value_91</th>\n",
       "      <td>100.0</td>\n",
       "    </tr>\n",
       "    <tr>\n",
       "      <th>value_92</th>\n",
       "      <td>100.0</td>\n",
       "    </tr>\n",
       "    <tr>\n",
       "      <th>value_93</th>\n",
       "      <td>100.0</td>\n",
       "    </tr>\n",
       "  </tbody>\n",
       "</table>\n",
       "</div>"
      ],
      "text/plain": [
       "           status_perc\n",
       "gateway               \n",
       "value_106        100.0\n",
       "value_134        100.0\n",
       "value_141        100.0\n",
       "value_146        100.0\n",
       "value_147        100.0\n",
       "value_156        100.0\n",
       "value_159        100.0\n",
       "value_165        100.0\n",
       "value_188        100.0\n",
       "value_199        100.0\n",
       "value_207        100.0\n",
       "value_228        100.0\n",
       "value_238        100.0\n",
       "value_26         100.0\n",
       "value_32         100.0\n",
       "value_41         100.0\n",
       "value_64         100.0\n",
       "value_67         100.0\n",
       "value_69         100.0\n",
       "value_91         100.0\n",
       "value_92         100.0\n",
       "value_93         100.0"
      ]
     },
     "execution_count": 29,
     "metadata": {},
     "output_type": "execute_result"
    }
   ],
   "source": [
    "perc4=perc3[perc3['status'].isin(['declined', 'chargeback'])]\n",
    "perc5=perc4.groupby(['gateway']).agg({'status_perc': 'sum'})\n",
    "perc5[(perc5['status_perc']==100)] "
   ]
  },
  {
   "cell_type": "code",
   "execution_count": 1273,
   "metadata": {
    "collapsed": false
   },
   "outputs": [],
   "source": [
    "df.created_at = pd.to_datetime(df.created_at)"
   ]
  },
  {
   "cell_type": "code",
   "execution_count": 1274,
   "metadata": {
    "collapsed": false
   },
   "outputs": [
    {
     "data": {
      "text/plain": [
       "(Timestamp('2015-07-30 00:00:00'), Timestamp('2017-07-18 00:00:00'))"
      ]
     },
     "execution_count": 1274,
     "metadata": {},
     "output_type": "execute_result"
    }
   ],
   "source": [
    "df.created_at.min(), df.created_at.max()"
   ]
  },
  {
   "cell_type": "code",
   "execution_count": 1275,
   "metadata": {
    "collapsed": false
   },
   "outputs": [
    {
     "data": {
      "text/plain": [
       "Timedelta('719 days 00:00:00')"
      ]
     },
     "execution_count": 1275,
     "metadata": {},
     "output_type": "execute_result"
    }
   ],
   "source": [
    "df.created_at.max()-df.created_at.min()"
   ]
  },
  {
   "cell_type": "code",
   "execution_count": 537,
   "metadata": {
    "collapsed": false
   },
   "outputs": [
    {
     "data": {
      "text/html": [
       "<div>\n",
       "<style scoped>\n",
       "    .dataframe tbody tr th:only-of-type {\n",
       "        vertical-align: middle;\n",
       "    }\n",
       "\n",
       "    .dataframe tbody tr th {\n",
       "        vertical-align: top;\n",
       "    }\n",
       "\n",
       "    .dataframe thead th {\n",
       "        text-align: right;\n",
       "    }\n",
       "</style>\n",
       "<table border=\"1\" class=\"dataframe\">\n",
       "  <thead>\n",
       "    <tr style=\"text-align: right;\">\n",
       "      <th></th>\n",
       "      <th></th>\n",
       "      <th>status</th>\n",
       "    </tr>\n",
       "    <tr>\n",
       "      <th>month</th>\n",
       "      <th>status</th>\n",
       "      <th></th>\n",
       "    </tr>\n",
       "  </thead>\n",
       "  <tbody>\n",
       "    <tr>\n",
       "      <th rowspan=\"3\" valign=\"top\">1</th>\n",
       "      <th>approved</th>\n",
       "      <td>85.688973</td>\n",
       "    </tr>\n",
       "    <tr>\n",
       "      <th>chargeback</th>\n",
       "      <td>2.634221</td>\n",
       "    </tr>\n",
       "    <tr>\n",
       "      <th>declined</th>\n",
       "      <td>11.676806</td>\n",
       "    </tr>\n",
       "    <tr>\n",
       "      <th rowspan=\"3\" valign=\"top\">2</th>\n",
       "      <th>approved</th>\n",
       "      <td>83.948288</td>\n",
       "    </tr>\n",
       "    <tr>\n",
       "      <th>chargeback</th>\n",
       "      <td>2.522711</td>\n",
       "    </tr>\n",
       "    <tr>\n",
       "      <th>declined</th>\n",
       "      <td>13.529001</td>\n",
       "    </tr>\n",
       "    <tr>\n",
       "      <th rowspan=\"3\" valign=\"top\">3</th>\n",
       "      <th>approved</th>\n",
       "      <td>82.314959</td>\n",
       "    </tr>\n",
       "    <tr>\n",
       "      <th>chargeback</th>\n",
       "      <td>3.318187</td>\n",
       "    </tr>\n",
       "    <tr>\n",
       "      <th>declined</th>\n",
       "      <td>14.366854</td>\n",
       "    </tr>\n",
       "    <tr>\n",
       "      <th rowspan=\"3\" valign=\"top\">4</th>\n",
       "      <th>approved</th>\n",
       "      <td>85.486968</td>\n",
       "    </tr>\n",
       "    <tr>\n",
       "      <th>chargeback</th>\n",
       "      <td>4.071331</td>\n",
       "    </tr>\n",
       "    <tr>\n",
       "      <th>declined</th>\n",
       "      <td>10.441701</td>\n",
       "    </tr>\n",
       "    <tr>\n",
       "      <th rowspan=\"3\" valign=\"top\">5</th>\n",
       "      <th>approved</th>\n",
       "      <td>86.487418</td>\n",
       "    </tr>\n",
       "    <tr>\n",
       "      <th>chargeback</th>\n",
       "      <td>2.713350</td>\n",
       "    </tr>\n",
       "    <tr>\n",
       "      <th>declined</th>\n",
       "      <td>10.799232</td>\n",
       "    </tr>\n",
       "    <tr>\n",
       "      <th rowspan=\"3\" valign=\"top\">6</th>\n",
       "      <th>approved</th>\n",
       "      <td>87.397725</td>\n",
       "    </tr>\n",
       "    <tr>\n",
       "      <th>chargeback</th>\n",
       "      <td>2.377148</td>\n",
       "    </tr>\n",
       "    <tr>\n",
       "      <th>declined</th>\n",
       "      <td>10.225127</td>\n",
       "    </tr>\n",
       "    <tr>\n",
       "      <th rowspan=\"3\" valign=\"top\">7</th>\n",
       "      <th>approved</th>\n",
       "      <td>88.127105</td>\n",
       "    </tr>\n",
       "    <tr>\n",
       "      <th>chargeback</th>\n",
       "      <td>1.994646</td>\n",
       "    </tr>\n",
       "    <tr>\n",
       "      <th>declined</th>\n",
       "      <td>9.878249</td>\n",
       "    </tr>\n",
       "    <tr>\n",
       "      <th rowspan=\"3\" valign=\"top\">8</th>\n",
       "      <th>approved</th>\n",
       "      <td>86.119874</td>\n",
       "    </tr>\n",
       "    <tr>\n",
       "      <th>chargeback</th>\n",
       "      <td>4.100946</td>\n",
       "    </tr>\n",
       "    <tr>\n",
       "      <th>declined</th>\n",
       "      <td>9.779180</td>\n",
       "    </tr>\n",
       "    <tr>\n",
       "      <th rowspan=\"3\" valign=\"top\">9</th>\n",
       "      <th>approved</th>\n",
       "      <td>91.387872</td>\n",
       "    </tr>\n",
       "    <tr>\n",
       "      <th>chargeback</th>\n",
       "      <td>2.469942</td>\n",
       "    </tr>\n",
       "    <tr>\n",
       "      <th>declined</th>\n",
       "      <td>6.142185</td>\n",
       "    </tr>\n",
       "    <tr>\n",
       "      <th rowspan=\"3\" valign=\"top\">10</th>\n",
       "      <th>approved</th>\n",
       "      <td>91.856156</td>\n",
       "    </tr>\n",
       "    <tr>\n",
       "      <th>chargeback</th>\n",
       "      <td>1.852788</td>\n",
       "    </tr>\n",
       "    <tr>\n",
       "      <th>declined</th>\n",
       "      <td>6.291056</td>\n",
       "    </tr>\n",
       "    <tr>\n",
       "      <th rowspan=\"3\" valign=\"top\">11</th>\n",
       "      <th>approved</th>\n",
       "      <td>90.744482</td>\n",
       "    </tr>\n",
       "    <tr>\n",
       "      <th>chargeback</th>\n",
       "      <td>1.064657</td>\n",
       "    </tr>\n",
       "    <tr>\n",
       "      <th>declined</th>\n",
       "      <td>8.190861</td>\n",
       "    </tr>\n",
       "    <tr>\n",
       "      <th rowspan=\"3\" valign=\"top\">12</th>\n",
       "      <th>approved</th>\n",
       "      <td>86.526863</td>\n",
       "    </tr>\n",
       "    <tr>\n",
       "      <th>chargeback</th>\n",
       "      <td>1.864480</td>\n",
       "    </tr>\n",
       "    <tr>\n",
       "      <th>declined</th>\n",
       "      <td>11.608656</td>\n",
       "    </tr>\n",
       "  </tbody>\n",
       "</table>\n",
       "</div>"
      ],
      "text/plain": [
       "                     status\n",
       "month status               \n",
       "1     approved    85.688973\n",
       "      chargeback   2.634221\n",
       "      declined    11.676806\n",
       "2     approved    83.948288\n",
       "      chargeback   2.522711\n",
       "      declined    13.529001\n",
       "3     approved    82.314959\n",
       "      chargeback   3.318187\n",
       "      declined    14.366854\n",
       "4     approved    85.486968\n",
       "      chargeback   4.071331\n",
       "      declined    10.441701\n",
       "5     approved    86.487418\n",
       "      chargeback   2.713350\n",
       "      declined    10.799232\n",
       "6     approved    87.397725\n",
       "      chargeback   2.377148\n",
       "      declined    10.225127\n",
       "7     approved    88.127105\n",
       "      chargeback   1.994646\n",
       "      declined     9.878249\n",
       "8     approved    86.119874\n",
       "      chargeback   4.100946\n",
       "      declined     9.779180\n",
       "9     approved    91.387872\n",
       "      chargeback   2.469942\n",
       "      declined     6.142185\n",
       "10    approved    91.856156\n",
       "      chargeback   1.852788\n",
       "      declined     6.291056\n",
       "11    approved    90.744482\n",
       "      chargeback   1.064657\n",
       "      declined     8.190861\n",
       "12    approved    86.526863\n",
       "      chargeback   1.864480\n",
       "      declined    11.608656"
      ]
     },
     "execution_count": 537,
     "metadata": {},
     "output_type": "execute_result"
    }
   ],
   "source": [
    "perc = df.groupby(['month', 'status']).agg({'status': 'count'})\n",
    "perc.groupby(level=0).apply(lambda x: 100 * x / float(x.sum()))"
   ]
  },
  {
   "cell_type": "code",
   "execution_count": 530,
   "metadata": {
    "collapsed": true
   },
   "outputs": [],
   "source": [
    "df['status'] = df['status'].map({'approved':'1','chargeback':'0','declined':'0'})"
   ]
  },
  {
   "cell_type": "code",
   "execution_count": 531,
   "metadata": {
    "collapsed": true
   },
   "outputs": [],
   "source": [
    "df['status'] = df['status'].astype('int64')"
   ]
  },
  {
   "cell_type": "code",
   "execution_count": 532,
   "metadata": {
    "collapsed": true
   },
   "outputs": [],
   "source": [
    "heat = df.groupby(['shipping_country_code', 'billing_country_code']).agg({'status': 'sum'})"
   ]
  },
  {
   "cell_type": "code",
   "execution_count": 533,
   "metadata": {
    "collapsed": true
   },
   "outputs": [],
   "source": [
    "heat2 = heat.add_suffix('_sum').reset_index()"
   ]
  },
  {
   "cell_type": "code",
   "execution_count": 534,
   "metadata": {
    "collapsed": true
   },
   "outputs": [],
   "source": [
    "heat3=heat2.pivot_table(index='shipping_country_code', columns='billing_country_code', values='status_sum', aggfunc=np.sum)\n",
    "#sns.heatmap(heat3,annot=True, fmt=\".1f\")\n",
    "#plt.rcParams.update({'font.size': 5, 'figure.figsize':(50, 50)})\n",
    "#plt.show()"
   ]
  },
  {
   "cell_type": "markdown",
   "metadata": {},
   "source": [
    "### Dealing with Multicollinearity"
   ]
  },
  {
   "cell_type": "markdown",
   "metadata": {},
   "source": [
    "#### Correlation Matrix"
   ]
  },
  {
   "cell_type": "code",
   "execution_count": 535,
   "metadata": {
    "collapsed": false
   },
   "outputs": [
    {
     "data": {
      "image/png": "[encoded data removed]",
      "text/plain": [
       "<Figure size 792x648 with 2 Axes>"
      ]
     },
     "metadata": {},
     "output_type": "display_data"
    }
   ],
   "source": [
    "# Compute the correlation matrix for the numeric features\n",
    "sns.set(style=\"white\")\n",
    "\n",
    "corr = df.corr()\n",
    "\n",
    "# Generate a mask for the upper triangle\n",
    "mask = np.zeros_like(corr, dtype=np.bool)\n",
    "mask[np.triu_indices_from(mask)] = True\n",
    "\n",
    "# Set up the matplotlib figure\n",
    "f, ax = plt.subplots(figsize=(11, 9))\n",
    "\n",
    "# Generate a custom diverging colormap\n",
    "cmap = sns.diverging_palette(220, 10, as_cmap=True)\n",
    "\n",
    "# Draw the heatmap with the mask and correct aspect ratio\n",
    "sns.heatmap(corr, mask=mask, cmap=cmap, vmax=.3, center=0,\n",
    "            square=True, linewidths=.5, cbar_kws={\"shrink\": .5})\n",
    "plt.show()"
   ]
  },
  {
   "cell_type": "code",
   "execution_count": 536,
   "metadata": {
    "collapsed": false
   },
   "outputs": [
    {
     "data": {
      "text/html": [
       "<div>\n",
       "<style scoped>\n",
       "    .dataframe tbody tr th:only-of-type {\n",
       "        vertical-align: middle;\n",
       "    }\n",
       "\n",
       "    .dataframe tbody tr th {\n",
       "        vertical-align: top;\n",
       "    }\n",
       "\n",
       "    .dataframe thead th {\n",
       "        text-align: right;\n",
       "    }\n",
       "</style>\n",
       "<table border=\"1\" class=\"dataframe\">\n",
       "  <thead>\n",
       "    <tr style=\"text-align: right;\">\n",
       "      <th></th>\n",
       "      <th>status</th>\n",
       "      <th>total_spent</th>\n",
       "      <th>V2_distance</th>\n",
       "      <th>V3_distance</th>\n",
       "      <th>V4_our_age</th>\n",
       "      <th>V5_merchant_age</th>\n",
       "      <th>V8_ip</th>\n",
       "      <th>V9_cookie</th>\n",
       "      <th>V10_cookie</th>\n",
       "      <th>V11_cookie</th>\n",
       "    </tr>\n",
       "  </thead>\n",
       "  <tbody>\n",
       "    <tr>\n",
       "      <th>status</th>\n",
       "      <td>1.000000</td>\n",
       "      <td>-0.125056</td>\n",
       "      <td>-0.129088</td>\n",
       "      <td>-0.112930</td>\n",
       "      <td>-0.001096</td>\n",
       "      <td>0.010037</td>\n",
       "      <td>-0.318956</td>\n",
       "      <td>-0.001832</td>\n",
       "      <td>-0.253944</td>\n",
       "      <td>0.105852</td>\n",
       "    </tr>\n",
       "    <tr>\n",
       "      <th>total_spent</th>\n",
       "      <td>-0.125056</td>\n",
       "      <td>1.000000</td>\n",
       "      <td>0.042038</td>\n",
       "      <td>0.036675</td>\n",
       "      <td>0.066458</td>\n",
       "      <td>0.015846</td>\n",
       "      <td>0.041663</td>\n",
       "      <td>0.043746</td>\n",
       "      <td>0.228724</td>\n",
       "      <td>0.078452</td>\n",
       "    </tr>\n",
       "    <tr>\n",
       "      <th>V2_distance</th>\n",
       "      <td>-0.129088</td>\n",
       "      <td>0.042038</td>\n",
       "      <td>1.000000</td>\n",
       "      <td>0.836016</td>\n",
       "      <td>0.049671</td>\n",
       "      <td>0.005155</td>\n",
       "      <td>0.118455</td>\n",
       "      <td>0.039970</td>\n",
       "      <td>0.044467</td>\n",
       "      <td>0.013824</td>\n",
       "    </tr>\n",
       "    <tr>\n",
       "      <th>V3_distance</th>\n",
       "      <td>-0.112930</td>\n",
       "      <td>0.036675</td>\n",
       "      <td>0.836016</td>\n",
       "      <td>1.000000</td>\n",
       "      <td>0.052180</td>\n",
       "      <td>0.002498</td>\n",
       "      <td>0.109975</td>\n",
       "      <td>0.044392</td>\n",
       "      <td>0.034327</td>\n",
       "      <td>0.023297</td>\n",
       "    </tr>\n",
       "    <tr>\n",
       "      <th>V4_our_age</th>\n",
       "      <td>-0.001096</td>\n",
       "      <td>0.066458</td>\n",
       "      <td>0.049671</td>\n",
       "      <td>0.052180</td>\n",
       "      <td>1.000000</td>\n",
       "      <td>0.007440</td>\n",
       "      <td>-0.009750</td>\n",
       "      <td>0.019174</td>\n",
       "      <td>0.053236</td>\n",
       "      <td>0.136960</td>\n",
       "    </tr>\n",
       "    <tr>\n",
       "      <th>V5_merchant_age</th>\n",
       "      <td>0.010037</td>\n",
       "      <td>0.015846</td>\n",
       "      <td>0.005155</td>\n",
       "      <td>0.002498</td>\n",
       "      <td>0.007440</td>\n",
       "      <td>1.000000</td>\n",
       "      <td>-0.002669</td>\n",
       "      <td>0.007346</td>\n",
       "      <td>0.022975</td>\n",
       "      <td>0.049137</td>\n",
       "    </tr>\n",
       "    <tr>\n",
       "      <th>V8_ip</th>\n",
       "      <td>-0.318956</td>\n",
       "      <td>0.041663</td>\n",
       "      <td>0.118455</td>\n",
       "      <td>0.109975</td>\n",
       "      <td>-0.009750</td>\n",
       "      <td>-0.002669</td>\n",
       "      <td>1.000000</td>\n",
       "      <td>0.102816</td>\n",
       "      <td>0.099466</td>\n",
       "      <td>-0.031715</td>\n",
       "    </tr>\n",
       "    <tr>\n",
       "      <th>V9_cookie</th>\n",
       "      <td>-0.001832</td>\n",
       "      <td>0.043746</td>\n",
       "      <td>0.039970</td>\n",
       "      <td>0.044392</td>\n",
       "      <td>0.019174</td>\n",
       "      <td>0.007346</td>\n",
       "      <td>0.102816</td>\n",
       "      <td>1.000000</td>\n",
       "      <td>-0.037776</td>\n",
       "      <td>0.255656</td>\n",
       "    </tr>\n",
       "    <tr>\n",
       "      <th>V10_cookie</th>\n",
       "      <td>-0.253944</td>\n",
       "      <td>0.228724</td>\n",
       "      <td>0.044467</td>\n",
       "      <td>0.034327</td>\n",
       "      <td>0.053236</td>\n",
       "      <td>0.022975</td>\n",
       "      <td>0.099466</td>\n",
       "      <td>-0.037776</td>\n",
       "      <td>1.000000</td>\n",
       "      <td>-0.124429</td>\n",
       "    </tr>\n",
       "    <tr>\n",
       "      <th>V11_cookie</th>\n",
       "      <td>0.105852</td>\n",
       "      <td>0.078452</td>\n",
       "      <td>0.013824</td>\n",
       "      <td>0.023297</td>\n",
       "      <td>0.136960</td>\n",
       "      <td>0.049137</td>\n",
       "      <td>-0.031715</td>\n",
       "      <td>0.255656</td>\n",
       "      <td>-0.124429</td>\n",
       "      <td>1.000000</td>\n",
       "    </tr>\n",
       "  </tbody>\n",
       "</table>\n",
       "</div>"
      ],
      "text/plain": [
       "                   status  total_spent  V2_distance  V3_distance  V4_our_age  \\\n",
       "status           1.000000    -0.125056    -0.129088    -0.112930   -0.001096   \n",
       "total_spent     -0.125056     1.000000     0.042038     0.036675    0.066458   \n",
       "V2_distance     -0.129088     0.042038     1.000000     0.836016    0.049671   \n",
       "V3_distance     -0.112930     0.036675     0.836016     1.000000    0.052180   \n",
       "V4_our_age      -0.001096     0.066458     0.049671     0.052180    1.000000   \n",
       "V5_merchant_age  0.010037     0.015846     0.005155     0.002498    0.007440   \n",
       "V8_ip           -0.318956     0.041663     0.118455     0.109975   -0.009750   \n",
       "V9_cookie       -0.001832     0.043746     0.039970     0.044392    0.019174   \n",
       "V10_cookie      -0.253944     0.228724     0.044467     0.034327    0.053236   \n",
       "V11_cookie       0.105852     0.078452     0.013824     0.023297    0.136960   \n",
       "\n",
       "                 V5_merchant_age     V8_ip  V9_cookie  V10_cookie  V11_cookie  \n",
       "status                  0.010037 -0.318956  -0.001832   -0.253944    0.105852  \n",
       "total_spent             0.015846  0.041663   0.043746    0.228724    0.078452  \n",
       "V2_distance             0.005155  0.118455   0.039970    0.044467    0.013824  \n",
       "V3_distance             0.002498  0.109975   0.044392    0.034327    0.023297  \n",
       "V4_our_age              0.007440 -0.009750   0.019174    0.053236    0.136960  \n",
       "V5_merchant_age         1.000000 -0.002669   0.007346    0.022975    0.049137  \n",
       "V8_ip                  -0.002669  1.000000   0.102816    0.099466   -0.031715  \n",
       "V9_cookie               0.007346  0.102816   1.000000   -0.037776    0.255656  \n",
       "V10_cookie              0.022975  0.099466  -0.037776    1.000000   -0.124429  \n",
       "V11_cookie              0.049137 -0.031715   0.255656   -0.124429    1.000000  "
      ]
     },
     "execution_count": 536,
     "metadata": {},
     "output_type": "execute_result"
    }
   ],
   "source": [
    "df.corr()"
   ]
  },
  {
   "cell_type": "code",
   "execution_count": 537,
   "metadata": {
    "collapsed": true
   },
   "outputs": [],
   "source": [
    "co = corr.unstack()"
   ]
  },
  {
   "cell_type": "markdown",
   "metadata": {},
   "source": [
    "#### Positive correlation"
   ]
  },
  {
   "cell_type": "code",
   "execution_count": 538,
   "metadata": {
    "collapsed": false
   },
   "outputs": [
    {
     "data": {
      "text/html": [
       "<div>\n",
       "<style scoped>\n",
       "    .dataframe tbody tr th:only-of-type {\n",
       "        vertical-align: middle;\n",
       "    }\n",
       "\n",
       "    .dataframe tbody tr th {\n",
       "        vertical-align: top;\n",
       "    }\n",
       "\n",
       "    .dataframe thead th {\n",
       "        text-align: right;\n",
       "    }\n",
       "</style>\n",
       "<table border=\"1\" class=\"dataframe\">\n",
       "  <thead>\n",
       "    <tr style=\"text-align: right;\">\n",
       "      <th></th>\n",
       "      <th></th>\n",
       "      <th>0</th>\n",
       "    </tr>\n",
       "  </thead>\n",
       "  <tbody>\n",
       "    <tr>\n",
       "      <th>V3_distance</th>\n",
       "      <th>V2_distance</th>\n",
       "      <td>0.836016</td>\n",
       "    </tr>\n",
       "    <tr>\n",
       "      <th>V2_distance</th>\n",
       "      <th>V3_distance</th>\n",
       "      <td>0.836016</td>\n",
       "    </tr>\n",
       "    <tr>\n",
       "      <th>status</th>\n",
       "      <th>status</th>\n",
       "      <td>1.000000</td>\n",
       "    </tr>\n",
       "    <tr>\n",
       "      <th>V9_cookie</th>\n",
       "      <th>V9_cookie</th>\n",
       "      <td>1.000000</td>\n",
       "    </tr>\n",
       "    <tr>\n",
       "      <th>V8_ip</th>\n",
       "      <th>V8_ip</th>\n",
       "      <td>1.000000</td>\n",
       "    </tr>\n",
       "    <tr>\n",
       "      <th>V5_merchant_age</th>\n",
       "      <th>V5_merchant_age</th>\n",
       "      <td>1.000000</td>\n",
       "    </tr>\n",
       "    <tr>\n",
       "      <th>V4_our_age</th>\n",
       "      <th>V4_our_age</th>\n",
       "      <td>1.000000</td>\n",
       "    </tr>\n",
       "    <tr>\n",
       "      <th>V3_distance</th>\n",
       "      <th>V3_distance</th>\n",
       "      <td>1.000000</td>\n",
       "    </tr>\n",
       "    <tr>\n",
       "      <th>V2_distance</th>\n",
       "      <th>V2_distance</th>\n",
       "      <td>1.000000</td>\n",
       "    </tr>\n",
       "    <tr>\n",
       "      <th>total_spent</th>\n",
       "      <th>total_spent</th>\n",
       "      <td>1.000000</td>\n",
       "    </tr>\n",
       "    <tr>\n",
       "      <th>V10_cookie</th>\n",
       "      <th>V10_cookie</th>\n",
       "      <td>1.000000</td>\n",
       "    </tr>\n",
       "    <tr>\n",
       "      <th>V11_cookie</th>\n",
       "      <th>V11_cookie</th>\n",
       "      <td>1.000000</td>\n",
       "    </tr>\n",
       "  </tbody>\n",
       "</table>\n",
       "</div>"
      ],
      "text/plain": [
       "                                        0\n",
       "V3_distance     V2_distance      0.836016\n",
       "V2_distance     V3_distance      0.836016\n",
       "status          status           1.000000\n",
       "V9_cookie       V9_cookie        1.000000\n",
       "V8_ip           V8_ip            1.000000\n",
       "V5_merchant_age V5_merchant_age  1.000000\n",
       "V4_our_age      V4_our_age       1.000000\n",
       "V3_distance     V3_distance      1.000000\n",
       "V2_distance     V2_distance      1.000000\n",
       "total_spent     total_spent      1.000000\n",
       "V10_cookie      V10_cookie       1.000000\n",
       "V11_cookie      V11_cookie       1.000000"
      ]
     },
     "execution_count": 538,
     "metadata": {},
     "output_type": "execute_result"
    }
   ],
   "source": [
    "sort_cor = co.sort_values(kind=\"quicksort\")\n",
    "pd.DataFrame(sort_cor[sort_cor > 0.8])"
   ]
  },
  {
   "cell_type": "markdown",
   "metadata": {},
   "source": [
    "There is a high positive correlation between V2 and V3."
   ]
  },
  {
   "cell_type": "markdown",
   "metadata": {},
   "source": [
    "#### Negative correlation"
   ]
  },
  {
   "cell_type": "code",
   "execution_count": 539,
   "metadata": {
    "collapsed": false
   },
   "outputs": [
    {
     "data": {
      "text/html": [
       "<div>\n",
       "<style scoped>\n",
       "    .dataframe tbody tr th:only-of-type {\n",
       "        vertical-align: middle;\n",
       "    }\n",
       "\n",
       "    .dataframe tbody tr th {\n",
       "        vertical-align: top;\n",
       "    }\n",
       "\n",
       "    .dataframe thead th {\n",
       "        text-align: right;\n",
       "    }\n",
       "</style>\n",
       "<table border=\"1\" class=\"dataframe\">\n",
       "  <thead>\n",
       "    <tr style=\"text-align: right;\">\n",
       "      <th></th>\n",
       "      <th></th>\n",
       "      <th>0</th>\n",
       "    </tr>\n",
       "  </thead>\n",
       "  <tbody>\n",
       "  </tbody>\n",
       "</table>\n",
       "</div>"
      ],
      "text/plain": [
       "Empty DataFrame\n",
       "Columns: [0]\n",
       "Index: []"
      ]
     },
     "execution_count": 539,
     "metadata": {},
     "output_type": "execute_result"
    }
   ],
   "source": [
    "sort_cor = co.sort_values(kind=\"quicksort\")\n",
    "pd.DataFrame(sort_cor[sort_cor < -0.8])"
   ]
  },
  {
   "cell_type": "markdown",
   "metadata": {},
   "source": [
    "### Data Smoothing and Outliers Detection"
   ]
  },
  {
   "cell_type": "code",
   "execution_count": 540,
   "metadata": {
    "collapsed": false
   },
   "outputs": [
    {
     "name": "stderr",
     "output_type": "stream",
     "text": [
      "C:\\Users\\user\\Anaconda3\\envs\\cs231n\\lib\\site-packages\\numpy\\lib\\function_base.py:4274: RuntimeWarning: Invalid value encountered in percentile\n",
      "  interpolation=interpolation)\n"
     ]
    }
   ],
   "source": [
    "# Check for outliers \n",
    "for col in num_columns:\n",
    "    # Getting 75 and 25 percentile of variable \"i\"\n",
    "    q75, q25 = np.percentile(df[col], [75,25])\n",
    "    \n",
    "    # Calculating Interquartile range\n",
    "    iqr = q75 - q25\n",
    "    \n",
    "    # Calculating upper extream and lower extream\n",
    "    minimum = q25 - (iqr*1.5)\n",
    "    maximum = q75 + (iqr*1.5)\n",
    "    \n",
    "    # Replacing all the outliers value to NA\n",
    "    df.loc[df[col]< minimum,col] = np.nan\n",
    "    df.loc[df[col]> maximum,col] = np.nan"
   ]
  },
  {
   "cell_type": "markdown",
   "metadata": {},
   "source": [
    "### Dealing with missing values"
   ]
  },
  {
   "cell_type": "markdown",
   "metadata": {},
   "source": [
    "#### Categorial features"
   ]
  },
  {
   "cell_type": "code",
   "execution_count": 541,
   "metadata": {
    "collapsed": false
   },
   "outputs": [],
   "source": [
    "from sklearn_pandas import CategoricalImputer\n",
    "cat_miss=['billing_country_code' , 'shipping_country_code', 'shipping_method', 'gateway', 'V1_link','V6_avs_result','V7_bill_ship_name_match']\n",
    "# instantiate CategoricalImputer\n",
    "imputer = CategoricalImputer()\n",
    "df[cat_miss] = df[cat_miss].apply(lambda x: imputer.fit_transform(x), axis=0)"
   ]
  },
  {
   "cell_type": "markdown",
   "metadata": {},
   "source": [
    "#### Numerical features"
   ]
  },
  {
   "cell_type": "code",
   "execution_count": 542,
   "metadata": {
    "collapsed": false
   },
   "outputs": [],
   "source": [
    "from sklearn.preprocessing import Imputer\n",
    "# Deal with missing values - strategy can be changed to \"median\" and “mode”\n",
    "imp = Imputer(missing_values=np.nan, strategy='mean')\n",
    "values = df[num_columns].values\n",
    "df[num_columns] = imp.fit_transform(values)"
   ]
  },
  {
   "cell_type": "code",
   "execution_count": 543,
   "metadata": {
    "collapsed": false
   },
   "outputs": [
    {
     "name": "stdout",
     "output_type": "stream",
     "text": [
      "<class 'pandas.core.frame.DataFrame'>\n",
      "RangeIndex: 190000 entries, 0 to 189999\n",
      "Data columns (total 24 columns):\n",
      "order_id                   190000 non-null category\n",
      "status                     190000 non-null int64\n",
      "email_anoni                190000 non-null category\n",
      "billing_country_code       190000 non-null object\n",
      "shipping_country_code      190000 non-null object\n",
      "shipping_method            190000 non-null object\n",
      "created_at                 190000 non-null datetime64[ns]\n",
      "total_spent                190000 non-null float64\n",
      "currency_code              190000 non-null category\n",
      "gateway                    190000 non-null object\n",
      "V1_link                    190000 non-null object\n",
      "V2_distance                190000 non-null float64\n",
      "V3_distance                190000 non-null float64\n",
      "V4_our_age                 190000 non-null float64\n",
      "V5_merchant_age            190000 non-null float64\n",
      "V6_avs_result              190000 non-null object\n",
      "V7_bill_ship_name_match    190000 non-null object\n",
      "V8_ip                      190000 non-null float64\n",
      "V9_cookie                  190000 non-null float64\n",
      "V10_cookie                 190000 non-null float64\n",
      "V11_cookie                 190000 non-null float64\n",
      "address_difference         190000 non-null category\n",
      "weekday                    190000 non-null category\n",
      "month                      190000 non-null category\n",
      "dtypes: category(6), datetime64[ns](1), float64(9), int64(1), object(7)\n",
      "memory usage: 41.2+ MB\n"
     ]
    }
   ],
   "source": [
    "df.info()"
   ]
  },
  {
   "cell_type": "code",
   "execution_count": 544,
   "metadata": {
    "collapsed": true
   },
   "outputs": [],
   "source": [
    "categories = ['billing_country_code','shipping_country_code','shipping_method','currency_code','gateway','V1_link','V6_avs_result','V7_bill_ship_name_match','address_difference', 'weekday', 'month']\n",
    "for col in categories:\n",
    "    df[col] = df[col].astype('category')\n",
    "    \n",
    "num_columns=list(num_columns)\n",
    "num_columns.remove(\"V3_distance\")"
   ]
  },
  {
   "cell_type": "markdown",
   "metadata": {},
   "source": [
    "### Classification Model"
   ]
  },
  {
   "cell_type": "code",
   "execution_count": 545,
   "metadata": {
    "collapsed": true
   },
   "outputs": [],
   "source": [
    "#Normalaize the data\n",
    "from sklearn.preprocessing import MinMaxScaler,StandardScaler\n",
    "\n",
    "orig_df=df.copy()\n",
    "scaler = MinMaxScaler()\n",
    "scaler.fit(df[num_columns])\n",
    "df[num_columns]=scaler.transform(df[num_columns])"
   ]
  },
  {
   "cell_type": "code",
   "execution_count": 546,
   "metadata": {
    "collapsed": false
   },
   "outputs": [],
   "source": [
    "df=df.drop([\"created_at\",\"order_id\",\"email_anoni\",\"V3_distance\"], axis = 1)"
   ]
  },
  {
   "cell_type": "code",
   "execution_count": 592,
   "metadata": {
    "collapsed": false
   },
   "outputs": [],
   "source": [
    "import lightgbm as lgb\n",
    "from sklearn.model_selection import train_test_split\n",
    "\n",
    "X = df.drop(['status'], axis = 1)  # Independent features\n",
    "Y = df['status']  # Target feature"
   ]
  },
  {
   "cell_type": "code",
   "execution_count": 593,
   "metadata": {
    "collapsed": false
   },
   "outputs": [],
   "source": [
    "X = pd.get_dummies(X, columns=categories)"
   ]
  },
  {
   "cell_type": "code",
   "execution_count": 594,
   "metadata": {
    "collapsed": true
   },
   "outputs": [],
   "source": [
    "X_train, X_test, y_train, y_test = train_test_split(df.drop('status', axis=1), df['status'], test_size=0.2)"
   ]
  },
  {
   "cell_type": "code",
   "execution_count": 595,
   "metadata": {
    "collapsed": false
   },
   "outputs": [
    {
     "name": "stdout",
     "output_type": "stream",
     "text": [
      "(152000, 19)\n",
      "(38000, 19)\n",
      "(152000,)\n",
      "(38000,)\n"
     ]
    }
   ],
   "source": [
    "print(X_train.shape)\n",
    "print(X_test.shape)\n",
    "print(y_train.shape)\n",
    "print(y_test.shape)"
   ]
  },
  {
   "cell_type": "code",
   "execution_count": 596,
   "metadata": {
    "collapsed": false
   },
   "outputs": [],
   "source": [
    "lgb_train = lgb.Dataset(X_train, y_train, free_raw_data=False)\n",
    "lgb_test = lgb.Dataset(X_test, y_test, reference=lgb_train, free_raw_data=False)"
   ]
  },
  {
   "cell_type": "code",
   "execution_count": 597,
   "metadata": {
    "collapsed": false
   },
   "outputs": [],
   "source": [
    "#Select Hyper-Parameters\n",
    "params = {'boosting_type': 'gbdt',\n",
    "          'max_depth' : 50,\n",
    "          'objective': 'binary',\n",
    "          'nthread': 5,\n",
    "          'num_leaves': 64,\n",
    "          'learning_rate': 0.07,\n",
    "          'max_bin': 512,\n",
    "          'subsample_for_bin': 200,\n",
    "          'subsample': 1,\n",
    "          'subsample_freq': 1,\n",
    "          'colsample_bytree': 0.8,\n",
    "          'reg_alpha': 1.2,\n",
    "          'reg_lambda': 1.2,\n",
    "          'min_split_gain': 0.5,\n",
    "          'min_child_weight': 1,\n",
    "          'min_child_samples': 5,\n",
    "          'is_unbalance': True,\n",
    "          'num_class' : 1,\n",
    "          'metric' : 'binary_error',\n",
    "          }\n",
    "\n",
    "# Create parameters to search\n",
    "gridParams = {\n",
    "    'learning_rate': [0.07],\n",
    "    'n_estimators': [150],\n",
    "    'num_leaves': [20, 24, 27],\n",
    "    'boosting_type' : ['gbdt'],\n",
    "    'objective' : ['binary'],\n",
    "    'random_state' : [501], \n",
    "    'colsample_bytree' : [0.64, 0.65],\n",
    "    'subsample' : [0.7,0.75],\n",
    "    'reg_alpha' : [1, 1.2],\n",
    "    'reg_lambda' : [ 1.2, 1.4],\n",
    "    }\n",
    "\n",
    "# Create classifier to use\n",
    "mdl = lgb.LGBMClassifier(boosting_type= 'gbdt',\n",
    "          objective = 'binary',\n",
    "          n_jobs = 5, \n",
    "          silent = True,\n",
    "          max_depth = params['max_depth'],\n",
    "          max_bin = params['max_bin'],\n",
    "          subsample_for_bin = params['subsample_for_bin'],\n",
    "          subsample = params['subsample'],\n",
    "          subsample_freq = params['subsample_freq'],\n",
    "          min_split_gain = params['min_split_gain'],\n",
    "          min_child_weight = params['min_child_weight'],\n",
    "          min_child_samples = params['min_child_samples'],)"
   ]
  },
  {
   "cell_type": "code",
   "execution_count": 598,
   "metadata": {
    "collapsed": false
   },
   "outputs": [
    {
     "data": {
      "text/plain": [
       "dict_keys(['boosting_type', 'class_weight', 'colsample_bytree', 'importance_type', 'learning_rate', 'max_depth', 'min_child_samples', 'min_child_weight', 'min_split_gain', 'n_estimators', 'n_jobs', 'num_leaves', 'objective', 'random_state', 'reg_alpha', 'reg_lambda', 'silent', 'subsample', 'subsample_for_bin', 'subsample_freq', 'max_bin'])"
      ]
     },
     "execution_count": 598,
     "metadata": {},
     "output_type": "execute_result"
    }
   ],
   "source": [
    "# View the default model params:\n",
    "mdl.get_params().keys()"
   ]
  },
  {
   "cell_type": "code",
   "execution_count": 599,
   "metadata": {
    "collapsed": false
   },
   "outputs": [],
   "source": [
    "# Create the grid\n",
    "from sklearn.model_selection import GridSearchCV\n",
    "grid = GridSearchCV(mdl, gridParams, verbose=2, cv=4, n_jobs=-1)"
   ]
  },
  {
   "cell_type": "code",
   "execution_count": 600,
   "metadata": {
    "collapsed": false
   },
   "outputs": [
    {
     "name": "stdout",
     "output_type": "stream",
     "text": [
      "Fitting 4 folds for each of 48 candidates, totalling 192 fits\n"
     ]
    },
    {
     "name": "stderr",
     "output_type": "stream",
     "text": [
      "[Parallel(n_jobs=-1)]: Done  33 tasks      | elapsed:  1.7min\n",
      "[Parallel(n_jobs=-1)]: Done 154 tasks      | elapsed:  7.7min\n",
      "[Parallel(n_jobs=-1)]: Done 192 out of 192 | elapsed:  9.7min finished\n"
     ]
    },
    {
     "name": "stdout",
     "output_type": "stream",
     "text": [
      "{'boosting_type': 'gbdt', 'colsample_bytree': 0.64, 'learning_rate': 0.07, 'n_estimators': 150, 'num_leaves': 27, 'objective': 'binary', 'random_state': 501, 'reg_alpha': 1, 'reg_lambda': 1.4, 'subsample': 0.75}\n",
      "0.918348684211\n"
     ]
    }
   ],
   "source": [
    "# Run the grid\n",
    "grid.fit(X_train, y_train,)\n",
    "\n",
    "# Print the best parameters found\n",
    "print(grid.best_params_)\n",
    "print(grid.best_score_)"
   ]
  },
  {
   "cell_type": "code",
   "execution_count": 601,
   "metadata": {
    "collapsed": false
   },
   "outputs": [],
   "source": [
    "# Using parameters already set above, replace in the best from the grid search\n",
    "params['colsample_bytree'] = grid.best_params_['colsample_bytree']\n",
    "params['learning_rate'] = grid.best_params_['learning_rate']\n",
    "params['n_estimators'] = grid.best_params_['n_estimators']\n",
    "params['objective'] = grid.best_params_['objective']\n",
    "params['random_state'] = grid.best_params_['random_state']\n",
    "params['subsample'] = grid.best_params_['subsample']"
   ]
  },
  {
   "cell_type": "code",
   "execution_count": 602,
   "metadata": {
    "collapsed": false
   },
   "outputs": [
    {
     "name": "stderr",
     "output_type": "stream",
     "text": [
      "C:\\Users\\user\\Anaconda3\\envs\\cs231n\\lib\\site-packages\\lightgbm\\engine.py:118: UserWarning: Found `n_estimators` in params. Will use it instead of argument\n",
      "  warnings.warn(\"Found `{}` in params. Will use it instead of argument\".format(alias))\n",
      "C:\\Users\\user\\Anaconda3\\envs\\cs231n\\lib\\site-packages\\lightgbm\\basic.py:1209: UserWarning: categorical_feature in Dataset is overridden.\n",
      "New categorical_feature is ['V1_link', 'V6_avs_result', 'V7_bill_ship_name_match', 'address_difference', 'billing_country_code', 'currency_code', 'gateway', 'month', 'shipping_country_code', 'shipping_method', 'weekday']\n",
      "  'New categorical_feature is {}'.format(sorted(list(categorical_feature))))\n"
     ]
    },
    {
     "name": "stdout",
     "output_type": "stream",
     "text": [
      "Wall time: 4.76 s\n"
     ]
    }
   ],
   "source": [
    "%%time\n",
    "lgbm = lgb.train(params, lgb_train, num_boost_round=300, categorical_feature=categories)"
   ]
  },
  {
   "cell_type": "code",
   "execution_count": 603,
   "metadata": {
    "collapsed": false
   },
   "outputs": [],
   "source": [
    "y_prob = lgbm.predict(X_test)"
   ]
  },
  {
   "cell_type": "code",
   "execution_count": 604,
   "metadata": {
    "collapsed": false
   },
   "outputs": [],
   "source": [
    "y_pred = np.where(y_prob > 0.5, 1, 0) #Turn probability to 0-1 binary output  "
   ]
  },
  {
   "cell_type": "markdown",
   "metadata": {},
   "source": [
    "#### Feature Importance"
   ]
  },
  {
   "cell_type": "code",
   "execution_count": 605,
   "metadata": {
    "collapsed": false
   },
   "outputs": [
    {
     "data": {
      "image/png": "[encoded data removed]",
      "text/plain": [
       "<Figure size 576x396 with 1 Axes>"
      ]
     },
     "metadata": {},
     "output_type": "display_data"
    }
   ],
   "source": [
    "#Plot feature Importances\n",
    "lgb.plot_importance(lgbm, max_num_features=10, importance_type='split')\n",
    "plt.show()"
   ]
  },
  {
   "cell_type": "markdown",
   "metadata": {},
   "source": [
    "### Model Evaluation"
   ]
  },
  {
   "cell_type": "code",
   "execution_count": 606,
   "metadata": {
    "collapsed": false
   },
   "outputs": [
    {
     "data": {
      "text/plain": [
       "<Figure size 576x396 with 0 Axes>"
      ]
     },
     "metadata": {},
     "output_type": "display_data"
    },
    {
     "data": {
      "image/png": "[encoded data removed]",
      "text/plain": [
       "<Figure size 576x432 with 2 Axes>"
      ]
     },
     "metadata": {},
     "output_type": "display_data"
    }
   ],
   "source": [
    "#Print Confusion Matrix\n",
    "from sklearn.metrics import confusion_matrix, recall_score, precision_score, f1_score, roc_curve, roc_auc_score\n",
    "\n",
    "plt.figure()\n",
    "cm = confusion_matrix(y_test, y_pred)\n",
    "labels = ['Fraud', 'No Fraud']\n",
    "plt.figure(figsize=(8,6))\n",
    "sns.heatmap(cm, xticklabels = labels, yticklabels = labels, annot = True, fmt='d', cmap=\"Blues\", vmin = 0.2);\n",
    "plt.title('Confusion Matrix')\n",
    "plt.ylabel('True Class')\n",
    "plt.xlabel('Predicted Class')\n",
    "plt.show()"
   ]
  },
  {
   "cell_type": "markdown",
   "metadata": {},
   "source": [
    "#### Precision , Recall and F1 score"
   ]
  },
  {
   "cell_type": "code",
   "execution_count": 607,
   "metadata": {
    "collapsed": false
   },
   "outputs": [],
   "source": [
    "y_prob = pd.DataFrame(y_prob)"
   ]
  },
  {
   "cell_type": "code",
   "execution_count": 608,
   "metadata": {
    "collapsed": false
   },
   "outputs": [],
   "source": [
    "# calculate roc curve\n",
    "fpr, tpr, thresholds = roc_curve(y_test, y_prob)"
   ]
  },
  {
   "cell_type": "code",
   "execution_count": 609,
   "metadata": {
    "collapsed": false
   },
   "outputs": [
    {
     "name": "stdout",
     "output_type": "stream",
     "text": [
      "AUC: 0.928\n"
     ]
    }
   ],
   "source": [
    "# calculate AUC\n",
    "auc = roc_auc_score(y_test, y_prob)\n",
    "print('AUC: %.3f' % auc)"
   ]
  },
  {
   "cell_type": "code",
   "execution_count": 610,
   "metadata": {
    "collapsed": false
   },
   "outputs": [
    {
     "name": "stdout",
     "output_type": "stream",
     "text": [
      "Recall: 0.8594\n"
     ]
    }
   ],
   "source": [
    "print(\"Recall: {0}\".format(round(recall_score(y_test, y_pred),4)))"
   ]
  },
  {
   "cell_type": "code",
   "execution_count": 611,
   "metadata": {
    "collapsed": false
   },
   "outputs": [
    {
     "name": "stdout",
     "output_type": "stream",
     "text": [
      "Precision: 0.9742\n"
     ]
    }
   ],
   "source": [
    "print(\"Precision: {0}\".format(round(precision_score(y_test, y_pred),4)))"
   ]
  },
  {
   "cell_type": "code",
   "execution_count": 612,
   "metadata": {
    "collapsed": false
   },
   "outputs": [
    {
     "data": {
      "text/plain": [
       "0.913197505730728"
      ]
     },
     "execution_count": 612,
     "metadata": {},
     "output_type": "execute_result"
    }
   ],
   "source": [
    "# calculate F1 score\n",
    "f1_score(y_test, y_pred)"
   ]
  }
 ],
 "metadata": {
  "anaconda-cloud": {},
  "kernelspec": {
   "display_name": "Python [conda env:cs231n]",
   "language": "python",
   "name": "conda-env-cs231n-py"
  },
  "language_info": {
   "codemirror_mode": {
    "name": "ipython",
    "version": 3
   },
   "file_extension": ".py",
   "mimetype": "text/x-python",
   "name": "python",
   "nbconvert_exporter": "python",
   "pygments_lexer": "ipython3",
   "version": "3.6.6"
  }
 },
 "nbformat": 4,
 "nbformat_minor": 1
}
